{
 "cells": [
  {
   "cell_type": "markdown",
   "metadata": {},
   "source": [
    "# Use Natural Language Processing to provide solutions to customer support problems.\n",
    "\n",
    "## Introduction\n",
    "\n",
    "The goal of this report is to explore customer support tickets data, analyze the text using Natural Language Processing (NLP) and propose solutions to customer issues based on existing information and trained unsupervised model.\n",
    "\n",
    "The business problem we try to solve is to provide immediate answers to issues raised by the customer while saving company resources. The system can be consumed by support, sales operations and even internal engineering teams. The data sets to be used, contain large volume of available information of how to solve wide array of product and system related issues. We want to provide more fluent and natural way of accessing this information and obtaining the resolution without the need to manually dig the data or relay on specific person's domain knowledge.\n",
    "<ol>\n",
    "    <li>Consume the spread sheet and clean up the data using pandas.</li>\n",
    "    <li>Explore data and visualize the data for common support issues.</li>\n",
    "    <li>Train the NLP Model with the dataset using genism and nltk.</li>\n",
    "    <li>Use the provided UI to state your problem and the resulting information will relate to the top found results using similar     sentence matching algorithm.</li>\n",
    "</ol>\n",
    "\n",
    "To find similar sentence we will be using embedding technique provided by <code>genism</code> called <code>**Doc2Vec**</code>. \n",
    "We could be using the ***bag-of-words*** model, but this research concentrates of using different approach such as ***word embedding***. The bag-of-words model transforms each document to a fixed-length vector of integers. Each vector has elements, where each element counts the number of times a particular word occurred in the document. The order of elements is arbitrary. Bag-of-words models are surprisingly effective but has ***2 major downsides***. First, we lose the words order and even if we try to sole it using n-grams we still experience ***data sparsity and high dimensionality***. Second, the model does not attempt to learn ***the meaning of the underlying words***, and as a consequence, the distance between vectors doesn’t always reflect the difference in meaning. \n",
    "As a result, we will be using <code>**Word2Vec**</code> model which ***embeds words in a lower-dimension vector space using shallow neural network***. As a result, set of word-vectors where vectors close together in vector space have similar meanings based on context, and word-vectors distant to each other have differing meanings. The algorithm used by <code>Word2Vec</code> act as if a document has another floating word-like vector, which contributes to all training predictions, and is updated like other word-vectors, but we will call it a doc-vector. There are 2 implementations.\n",
    "<ul>\n",
    "<li>Paragraph Vector - Distributed Memory (PV-DM)</li>\n",
    "<li>Paragraph Vector - Distributed Bag of Words (PV-DBOW) </li>\n",
    "</ul>\n",
    "In our case we will be using PV-DM.\n",
    "Find out more on <a href=\"https://radimrehurek.com/gensim/auto_examples/tutorials/run_doc2vec_lee.html\">genism documentation</a>\n",
    "\n",
    "\n",
    "Before we train our model we will need to clean up the data and then explore some facts about the information we can extract that may help us understand where the pain points of the support tickets are.\n"
   ]
  },
  {
   "cell_type": "markdown",
   "metadata": {},
   "source": [
    "### Istall the required packages"
   ]
  },
  {
   "cell_type": "code",
   "execution_count": 7,
   "metadata": {
    "scrolled": true
   },
   "outputs": [
    {
     "name": "stdout",
     "output_type": "stream",
     "text": [
      "Requirement already satisfied: gensim in c:\\users\\stotlyakov\\anaconda3\\lib\\site-packages (4.0.1)\n",
      "Requirement already satisfied: Cython==0.29.21 in c:\\users\\stotlyakov\\anaconda3\\lib\\site-packages (from gensim) (0.29.21)\n",
      "Requirement already satisfied: numpy>=1.11.3 in c:\\users\\stotlyakov\\anaconda3\\lib\\site-packages (from gensim) (1.20.3)\n",
      "Requirement already satisfied: scipy>=0.18.1 in c:\\users\\stotlyakov\\anaconda3\\lib\\site-packages (from gensim) (1.6.3)\n",
      "Requirement already satisfied: smart-open>=1.8.1 in c:\\users\\stotlyakov\\anaconda3\\lib\\site-packages (from gensim) (5.1.0)\n",
      "Requirement already satisfied: nltk in c:\\users\\stotlyakov\\anaconda3\\lib\\site-packages (3.5)\n",
      "Requirement already satisfied: regex in c:\\users\\stotlyakov\\anaconda3\\lib\\site-packages (from nltk) (2020.10.15)\n",
      "Requirement already satisfied: joblib in c:\\users\\stotlyakov\\anaconda3\\lib\\site-packages (from nltk) (0.17.0)\n",
      "Requirement already satisfied: tqdm in c:\\users\\stotlyakov\\anaconda3\\lib\\site-packages (from nltk) (4.50.2)\n",
      "Requirement already satisfied: click in c:\\users\\stotlyakov\\anaconda3\\lib\\site-packages (from nltk) (7.1.2)\n",
      "Requirement already satisfied: wordcloud in c:\\users\\stotlyakov\\anaconda3\\lib\\site-packages (1.8.1)\n",
      "Requirement already satisfied: matplotlib in c:\\users\\stotlyakov\\anaconda3\\lib\\site-packages (from wordcloud) (3.3.2)\n",
      "Requirement already satisfied: numpy>=1.6.1 in c:\\users\\stotlyakov\\anaconda3\\lib\\site-packages (from wordcloud) (1.20.3)\n",
      "Requirement already satisfied: pillow in c:\\users\\stotlyakov\\anaconda3\\lib\\site-packages (from wordcloud) (8.0.1)\n",
      "Requirement already satisfied: python-dateutil>=2.1 in c:\\users\\stotlyakov\\anaconda3\\lib\\site-packages (from matplotlib->wordcloud) (2.8.1)\n",
      "Requirement already satisfied: certifi>=2020.06.20 in c:\\users\\stotlyakov\\anaconda3\\lib\\site-packages (from matplotlib->wordcloud) (2021.5.30)\n",
      "Requirement already satisfied: cycler>=0.10 in c:\\users\\stotlyakov\\anaconda3\\lib\\site-packages (from matplotlib->wordcloud) (0.10.0)\n",
      "Requirement already satisfied: pyparsing!=2.0.4,!=2.1.2,!=2.1.6,>=2.0.3 in c:\\users\\stotlyakov\\anaconda3\\lib\\site-packages (from matplotlib->wordcloud) (2.4.7)\n",
      "Requirement already satisfied: kiwisolver>=1.0.1 in c:\\users\\stotlyakov\\anaconda3\\lib\\site-packages (from matplotlib->wordcloud) (1.3.0)\n",
      "Requirement already satisfied: six>=1.5 in c:\\users\\stotlyakov\\anaconda3\\lib\\site-packages (from python-dateutil>=2.1->matplotlib->wordcloud) (1.16.0)\n"
     ]
    }
   ],
   "source": [
    "!pip install gensim\n",
    "!pip install nltk\n",
    "!pip install wordcloud"
   ]
  },
  {
   "cell_type": "markdown",
   "metadata": {},
   "source": [
    "## Exploration\n",
    "### Do some analytics on the available support text. Find out the common issues."
   ]
  },
  {
   "cell_type": "markdown",
   "metadata": {},
   "source": [
    "Explore the content of the issues section. To do this, first we will vectorize the text. Out of the vectors we can deduct the how many times diffeent words occur in total "
   ]
  },
  {
   "cell_type": "code",
   "execution_count": 2,
   "metadata": {},
   "outputs": [],
   "source": [
    "import pandas as pd\n",
    "from sklearn.feature_extraction.text import TfidfVectorizer\n",
    "from sklearn.metrics import adjusted_rand_score\n",
    "import numpy"
   ]
  },
  {
   "cell_type": "code",
   "execution_count": 38,
   "metadata": {},
   "outputs": [
    {
     "name": "stdout",
     "output_type": "stream",
     "text": [
      "['Microsoft Office 365 (CA) tenants being deleted because of missing MaintenanceSKU', 'Customer 0123456789 requires manual intervention', 'Customer 0123456789 Service Request requires manual intervention', 'Customer 0123456789 tenant is not created for Sage 100 ERP ', 'Sage Business Center consent issue', 'Office 365 Account that has gone suspended -  INC0732959 ', 'UK Account transfer failed for 122121, 12112 and 12121', '121221 - Invalid email, Requires Manual Intervention', 'Invalid email address for O365 US', 'Duplicate payroll elements found in SLS data', 'Customer Office 365 tenant deleted during sync', 'Cloud Flare protection to CE SignOn endpoint suddenly prevented traffic to reach service', '63823004 - x Trade Services. Tenant needs to be reinstated', 'O365 US - Customer address failed MS validation', '020202020 - Customer address not validated  by MS', 'Customer entitlement missng contract effective dates', 'O365 200c order was placed against 50c', 'Error finding commerce account:Commerce account not found', 'Activate suspended tenant for Office Sage 50 US - INC0660437 - 1321313131', \"Failed to LogUserAccess - Exception Message:'Invalid TenantID [UserAccessLogSvc.Create]' - Calling LogUserAccess\"]\n"
     ]
    }
   ],
   "source": [
    "#https://github.com/stotlyakov/datascience/blob/main/data/Live%20Site%20Issues.csv\n",
    "path = '../data/Live Site Issues.csv'\n",
    "liveSiteAll = pd.read_csv(path)\n",
    "\n",
    "#Drop the columns that are not relevent to our needs\n",
    "liveSiteAll.drop(['App Created By','App Modified By','Content Type','Modified','Modified By','Item Type','Item Type','Defect number','Assigned To','Status','Time Taken CE to Resolve the Issue','Folder Child Count','Path','Item Child Count','Time taken to unblock the customer'], inplace=True, axis=1)\n",
    "\n",
    "#Work with the Issue column\n",
    "liveSiteAllDescSol = liveSiteAll['Issue']\n",
    "\n",
    "liveSiteAllDescSolSubset = liveSiteAllDescSol.head(20)\n",
    "data = liveSiteAllDescSolSubset.values.tolist()\n",
    "print(data)\n"
   ]
  },
  {
   "cell_type": "code",
   "execution_count": 28,
   "metadata": {},
   "outputs": [
    {
     "name": "stdout",
     "output_type": "stream",
     "text": [
      "words ['account', 'activate', 'address', 'business', 'ca', 'calling', 'ce', 'center', 'cloud', 'commerce', 'consent', 'contract', 'create', 'created', 'customer', 'data', 'dates', 'deleted', 'duplicate', 'effective', 'elements', 'email', 'endpoint', 'entitlement', 'erp', 'error', 'exception', 'failed', 'finding', 'flare', 'gone', 'intervention', 'invalid', 'issue', 'loguseraccess', 'maintenancesku', 'manual', 'message', 'microsoft', 'missing', 'missng', 'ms', 'needs', 'office', 'order', 'payroll', 'placed', 'prevented', 'protection', 'reach', 'reinstated', 'request', 'requires', 'sage', 'service', 'services', 'signon', 'sls', 'suddenly', 'suspended', 'sync', 'tenant', 'tenantid', 'tenants', 'trade', 'traffic', 'transfer', 'uk', 'useraccesslogsvc', 'validated', 'validation']\n"
     ]
    }
   ],
   "source": [
    "import re\n",
    "\n",
    "texts = data\n",
    "cleanedText = []\n",
    "for t in texts:\n",
    "    cleanedText.append(re.sub('\\d', '', t))\n",
    "    \n",
    "# Vectorization of the texts\n",
    "\n",
    "# Convert a collection of raw documents to a matrix of TF-IDF features. TF-IDF is a statistical measure \n",
    "# that evaluates how relevant a word is to a document in a collection of documents. \n",
    "\n",
    "# https://scikit-learn.org/stable/modules/generated/sklearn.feature_extraction.text.TfidfVectorizer.html\n",
    "vectorizer = TfidfVectorizer(stop_words=\"english\")\n",
    "X = vectorizer.fit_transform(cleanedText).todense()\n",
    "\n",
    "# used words (axis in our multi-dimensional space)\n",
    "words = vectorizer.get_feature_names()\n",
    "print(\"words\", words)\n"
   ]
  },
  {
   "cell_type": "code",
   "execution_count": 29,
   "metadata": {},
   "outputs": [
    {
     "data": {
      "text/plain": [
       "{'microsoft': 38,\n",
       " 'office': 43,\n",
       " 'ca': 4,\n",
       " 'tenants': 63,\n",
       " 'deleted': 17,\n",
       " 'missing': 39,\n",
       " 'maintenancesku': 35,\n",
       " 'customer': 14,\n",
       " 'requires': 52,\n",
       " 'manual': 36,\n",
       " 'intervention': 31,\n",
       " 'service': 54,\n",
       " 'request': 51,\n",
       " 'tenant': 61,\n",
       " 'created': 13,\n",
       " 'sage': 53,\n",
       " 'erp': 24,\n",
       " 'business': 3,\n",
       " 'center': 7,\n",
       " 'consent': 10,\n",
       " 'issue': 33,\n",
       " 'account': 0,\n",
       " 'gone': 30,\n",
       " 'suspended': 59,\n",
       " 'uk': 67,\n",
       " 'transfer': 66,\n",
       " 'failed': 27,\n",
       " 'invalid': 32,\n",
       " 'email': 21,\n",
       " 'address': 2,\n",
       " 'duplicate': 18,\n",
       " 'payroll': 45,\n",
       " 'elements': 20,\n",
       " 'sls': 57,\n",
       " 'data': 15,\n",
       " 'sync': 60,\n",
       " 'cloud': 8,\n",
       " 'flare': 29,\n",
       " 'protection': 48,\n",
       " 'ce': 6,\n",
       " 'signon': 56,\n",
       " 'endpoint': 22,\n",
       " 'suddenly': 58,\n",
       " 'prevented': 47,\n",
       " 'traffic': 65,\n",
       " 'reach': 49,\n",
       " 'trade': 64,\n",
       " 'services': 55,\n",
       " 'needs': 42,\n",
       " 'reinstated': 50,\n",
       " 'ms': 41,\n",
       " 'validation': 70,\n",
       " 'validated': 69,\n",
       " 'entitlement': 23,\n",
       " 'missng': 40,\n",
       " 'contract': 11,\n",
       " 'effective': 19,\n",
       " 'dates': 16,\n",
       " 'order': 44,\n",
       " 'placed': 46,\n",
       " 'error': 25,\n",
       " 'finding': 28,\n",
       " 'commerce': 9,\n",
       " 'activate': 1,\n",
       " 'loguseraccess': 34,\n",
       " 'exception': 26,\n",
       " 'message': 37,\n",
       " 'tenantid': 62,\n",
       " 'useraccesslogsvc': 68,\n",
       " 'create': 12,\n",
       " 'calling': 5}"
      ]
     },
     "execution_count": 29,
     "metadata": {},
     "output_type": "execute_result"
    }
   ],
   "source": [
    "vectorizer.vocabulary_"
   ]
  },
  {
   "cell_type": "code",
   "execution_count": 37,
   "metadata": {},
   "outputs": [
    {
     "data": {
      "application/vnd.plotly.v1+json": {
       "config": {
        "plotlyServerURL": "https://plot.ly"
       },
       "data": [
        {
         "type": "bar",
         "x": [
          70,
          69,
          68,
          67,
          66,
          65,
          64,
          63,
          62,
          61,
          60,
          59,
          58,
          57,
          56,
          55,
          54,
          53,
          52,
          51
         ],
         "y": [
          "validation",
          "validated",
          "useraccesslogsvc",
          "uk",
          "transfer",
          "traffic",
          "trade",
          "tenants",
          "tenantid",
          "tenant",
          "sync",
          "suspended",
          "suddenly",
          "sls",
          "signon",
          "services",
          "service",
          "sage",
          "requires",
          "request"
         ]
        }
       ],
       "layout": {
        "template": {
         "data": {
          "bar": [
           {
            "error_x": {
             "color": "#2a3f5f"
            },
            "error_y": {
             "color": "#2a3f5f"
            },
            "marker": {
             "line": {
              "color": "#E5ECF6",
              "width": 0.5
             }
            },
            "type": "bar"
           }
          ],
          "barpolar": [
           {
            "marker": {
             "line": {
              "color": "#E5ECF6",
              "width": 0.5
             }
            },
            "type": "barpolar"
           }
          ],
          "carpet": [
           {
            "aaxis": {
             "endlinecolor": "#2a3f5f",
             "gridcolor": "white",
             "linecolor": "white",
             "minorgridcolor": "white",
             "startlinecolor": "#2a3f5f"
            },
            "baxis": {
             "endlinecolor": "#2a3f5f",
             "gridcolor": "white",
             "linecolor": "white",
             "minorgridcolor": "white",
             "startlinecolor": "#2a3f5f"
            },
            "type": "carpet"
           }
          ],
          "choropleth": [
           {
            "colorbar": {
             "outlinewidth": 0,
             "ticks": ""
            },
            "type": "choropleth"
           }
          ],
          "contour": [
           {
            "colorbar": {
             "outlinewidth": 0,
             "ticks": ""
            },
            "colorscale": [
             [
              0,
              "#0d0887"
             ],
             [
              0.1111111111111111,
              "#46039f"
             ],
             [
              0.2222222222222222,
              "#7201a8"
             ],
             [
              0.3333333333333333,
              "#9c179e"
             ],
             [
              0.4444444444444444,
              "#bd3786"
             ],
             [
              0.5555555555555556,
              "#d8576b"
             ],
             [
              0.6666666666666666,
              "#ed7953"
             ],
             [
              0.7777777777777778,
              "#fb9f3a"
             ],
             [
              0.8888888888888888,
              "#fdca26"
             ],
             [
              1,
              "#f0f921"
             ]
            ],
            "type": "contour"
           }
          ],
          "contourcarpet": [
           {
            "colorbar": {
             "outlinewidth": 0,
             "ticks": ""
            },
            "type": "contourcarpet"
           }
          ],
          "heatmap": [
           {
            "colorbar": {
             "outlinewidth": 0,
             "ticks": ""
            },
            "colorscale": [
             [
              0,
              "#0d0887"
             ],
             [
              0.1111111111111111,
              "#46039f"
             ],
             [
              0.2222222222222222,
              "#7201a8"
             ],
             [
              0.3333333333333333,
              "#9c179e"
             ],
             [
              0.4444444444444444,
              "#bd3786"
             ],
             [
              0.5555555555555556,
              "#d8576b"
             ],
             [
              0.6666666666666666,
              "#ed7953"
             ],
             [
              0.7777777777777778,
              "#fb9f3a"
             ],
             [
              0.8888888888888888,
              "#fdca26"
             ],
             [
              1,
              "#f0f921"
             ]
            ],
            "type": "heatmap"
           }
          ],
          "heatmapgl": [
           {
            "colorbar": {
             "outlinewidth": 0,
             "ticks": ""
            },
            "colorscale": [
             [
              0,
              "#0d0887"
             ],
             [
              0.1111111111111111,
              "#46039f"
             ],
             [
              0.2222222222222222,
              "#7201a8"
             ],
             [
              0.3333333333333333,
              "#9c179e"
             ],
             [
              0.4444444444444444,
              "#bd3786"
             ],
             [
              0.5555555555555556,
              "#d8576b"
             ],
             [
              0.6666666666666666,
              "#ed7953"
             ],
             [
              0.7777777777777778,
              "#fb9f3a"
             ],
             [
              0.8888888888888888,
              "#fdca26"
             ],
             [
              1,
              "#f0f921"
             ]
            ],
            "type": "heatmapgl"
           }
          ],
          "histogram": [
           {
            "marker": {
             "colorbar": {
              "outlinewidth": 0,
              "ticks": ""
             }
            },
            "type": "histogram"
           }
          ],
          "histogram2d": [
           {
            "colorbar": {
             "outlinewidth": 0,
             "ticks": ""
            },
            "colorscale": [
             [
              0,
              "#0d0887"
             ],
             [
              0.1111111111111111,
              "#46039f"
             ],
             [
              0.2222222222222222,
              "#7201a8"
             ],
             [
              0.3333333333333333,
              "#9c179e"
             ],
             [
              0.4444444444444444,
              "#bd3786"
             ],
             [
              0.5555555555555556,
              "#d8576b"
             ],
             [
              0.6666666666666666,
              "#ed7953"
             ],
             [
              0.7777777777777778,
              "#fb9f3a"
             ],
             [
              0.8888888888888888,
              "#fdca26"
             ],
             [
              1,
              "#f0f921"
             ]
            ],
            "type": "histogram2d"
           }
          ],
          "histogram2dcontour": [
           {
            "colorbar": {
             "outlinewidth": 0,
             "ticks": ""
            },
            "colorscale": [
             [
              0,
              "#0d0887"
             ],
             [
              0.1111111111111111,
              "#46039f"
             ],
             [
              0.2222222222222222,
              "#7201a8"
             ],
             [
              0.3333333333333333,
              "#9c179e"
             ],
             [
              0.4444444444444444,
              "#bd3786"
             ],
             [
              0.5555555555555556,
              "#d8576b"
             ],
             [
              0.6666666666666666,
              "#ed7953"
             ],
             [
              0.7777777777777778,
              "#fb9f3a"
             ],
             [
              0.8888888888888888,
              "#fdca26"
             ],
             [
              1,
              "#f0f921"
             ]
            ],
            "type": "histogram2dcontour"
           }
          ],
          "mesh3d": [
           {
            "colorbar": {
             "outlinewidth": 0,
             "ticks": ""
            },
            "type": "mesh3d"
           }
          ],
          "parcoords": [
           {
            "line": {
             "colorbar": {
              "outlinewidth": 0,
              "ticks": ""
             }
            },
            "type": "parcoords"
           }
          ],
          "pie": [
           {
            "automargin": true,
            "type": "pie"
           }
          ],
          "scatter": [
           {
            "marker": {
             "colorbar": {
              "outlinewidth": 0,
              "ticks": ""
             }
            },
            "type": "scatter"
           }
          ],
          "scatter3d": [
           {
            "line": {
             "colorbar": {
              "outlinewidth": 0,
              "ticks": ""
             }
            },
            "marker": {
             "colorbar": {
              "outlinewidth": 0,
              "ticks": ""
             }
            },
            "type": "scatter3d"
           }
          ],
          "scattercarpet": [
           {
            "marker": {
             "colorbar": {
              "outlinewidth": 0,
              "ticks": ""
             }
            },
            "type": "scattercarpet"
           }
          ],
          "scattergeo": [
           {
            "marker": {
             "colorbar": {
              "outlinewidth": 0,
              "ticks": ""
             }
            },
            "type": "scattergeo"
           }
          ],
          "scattergl": [
           {
            "marker": {
             "colorbar": {
              "outlinewidth": 0,
              "ticks": ""
             }
            },
            "type": "scattergl"
           }
          ],
          "scattermapbox": [
           {
            "marker": {
             "colorbar": {
              "outlinewidth": 0,
              "ticks": ""
             }
            },
            "type": "scattermapbox"
           }
          ],
          "scatterpolar": [
           {
            "marker": {
             "colorbar": {
              "outlinewidth": 0,
              "ticks": ""
             }
            },
            "type": "scatterpolar"
           }
          ],
          "scatterpolargl": [
           {
            "marker": {
             "colorbar": {
              "outlinewidth": 0,
              "ticks": ""
             }
            },
            "type": "scatterpolargl"
           }
          ],
          "scatterternary": [
           {
            "marker": {
             "colorbar": {
              "outlinewidth": 0,
              "ticks": ""
             }
            },
            "type": "scatterternary"
           }
          ],
          "surface": [
           {
            "colorbar": {
             "outlinewidth": 0,
             "ticks": ""
            },
            "colorscale": [
             [
              0,
              "#0d0887"
             ],
             [
              0.1111111111111111,
              "#46039f"
             ],
             [
              0.2222222222222222,
              "#7201a8"
             ],
             [
              0.3333333333333333,
              "#9c179e"
             ],
             [
              0.4444444444444444,
              "#bd3786"
             ],
             [
              0.5555555555555556,
              "#d8576b"
             ],
             [
              0.6666666666666666,
              "#ed7953"
             ],
             [
              0.7777777777777778,
              "#fb9f3a"
             ],
             [
              0.8888888888888888,
              "#fdca26"
             ],
             [
              1,
              "#f0f921"
             ]
            ],
            "type": "surface"
           }
          ],
          "table": [
           {
            "cells": {
             "fill": {
              "color": "#EBF0F8"
             },
             "line": {
              "color": "white"
             }
            },
            "header": {
             "fill": {
              "color": "#C8D4E3"
             },
             "line": {
              "color": "white"
             }
            },
            "type": "table"
           }
          ]
         },
         "layout": {
          "annotationdefaults": {
           "arrowcolor": "#2a3f5f",
           "arrowhead": 0,
           "arrowwidth": 1
          },
          "coloraxis": {
           "colorbar": {
            "outlinewidth": 0,
            "ticks": ""
           }
          },
          "colorscale": {
           "diverging": [
            [
             0,
             "#8e0152"
            ],
            [
             0.1,
             "#c51b7d"
            ],
            [
             0.2,
             "#de77ae"
            ],
            [
             0.3,
             "#f1b6da"
            ],
            [
             0.4,
             "#fde0ef"
            ],
            [
             0.5,
             "#f7f7f7"
            ],
            [
             0.6,
             "#e6f5d0"
            ],
            [
             0.7,
             "#b8e186"
            ],
            [
             0.8,
             "#7fbc41"
            ],
            [
             0.9,
             "#4d9221"
            ],
            [
             1,
             "#276419"
            ]
           ],
           "sequential": [
            [
             0,
             "#0d0887"
            ],
            [
             0.1111111111111111,
             "#46039f"
            ],
            [
             0.2222222222222222,
             "#7201a8"
            ],
            [
             0.3333333333333333,
             "#9c179e"
            ],
            [
             0.4444444444444444,
             "#bd3786"
            ],
            [
             0.5555555555555556,
             "#d8576b"
            ],
            [
             0.6666666666666666,
             "#ed7953"
            ],
            [
             0.7777777777777778,
             "#fb9f3a"
            ],
            [
             0.8888888888888888,
             "#fdca26"
            ],
            [
             1,
             "#f0f921"
            ]
           ],
           "sequentialminus": [
            [
             0,
             "#0d0887"
            ],
            [
             0.1111111111111111,
             "#46039f"
            ],
            [
             0.2222222222222222,
             "#7201a8"
            ],
            [
             0.3333333333333333,
             "#9c179e"
            ],
            [
             0.4444444444444444,
             "#bd3786"
            ],
            [
             0.5555555555555556,
             "#d8576b"
            ],
            [
             0.6666666666666666,
             "#ed7953"
            ],
            [
             0.7777777777777778,
             "#fb9f3a"
            ],
            [
             0.8888888888888888,
             "#fdca26"
            ],
            [
             1,
             "#f0f921"
            ]
           ]
          },
          "colorway": [
           "#636efa",
           "#EF553B",
           "#00cc96",
           "#ab63fa",
           "#FFA15A",
           "#19d3f3",
           "#FF6692",
           "#B6E880",
           "#FF97FF",
           "#FECB52"
          ],
          "font": {
           "color": "#2a3f5f"
          },
          "geo": {
           "bgcolor": "white",
           "lakecolor": "white",
           "landcolor": "#E5ECF6",
           "showlakes": true,
           "showland": true,
           "subunitcolor": "white"
          },
          "hoverlabel": {
           "align": "left"
          },
          "hovermode": "closest",
          "mapbox": {
           "style": "light"
          },
          "paper_bgcolor": "white",
          "plot_bgcolor": "#E5ECF6",
          "polar": {
           "angularaxis": {
            "gridcolor": "white",
            "linecolor": "white",
            "ticks": ""
           },
           "bgcolor": "#E5ECF6",
           "radialaxis": {
            "gridcolor": "white",
            "linecolor": "white",
            "ticks": ""
           }
          },
          "scene": {
           "xaxis": {
            "backgroundcolor": "#E5ECF6",
            "gridcolor": "white",
            "gridwidth": 2,
            "linecolor": "white",
            "showbackground": true,
            "ticks": "",
            "zerolinecolor": "white"
           },
           "yaxis": {
            "backgroundcolor": "#E5ECF6",
            "gridcolor": "white",
            "gridwidth": 2,
            "linecolor": "white",
            "showbackground": true,
            "ticks": "",
            "zerolinecolor": "white"
           },
           "zaxis": {
            "backgroundcolor": "#E5ECF6",
            "gridcolor": "white",
            "gridwidth": 2,
            "linecolor": "white",
            "showbackground": true,
            "ticks": "",
            "zerolinecolor": "white"
           }
          },
          "shapedefaults": {
           "line": {
            "color": "#2a3f5f"
           }
          },
          "ternary": {
           "aaxis": {
            "gridcolor": "white",
            "linecolor": "white",
            "ticks": ""
           },
           "baxis": {
            "gridcolor": "white",
            "linecolor": "white",
            "ticks": ""
           },
           "bgcolor": "#E5ECF6",
           "caxis": {
            "gridcolor": "white",
            "linecolor": "white",
            "ticks": ""
           }
          },
          "title": {
           "x": 0.05
          },
          "xaxis": {
           "automargin": true,
           "gridcolor": "white",
           "linecolor": "white",
           "ticks": "",
           "title": {
            "standoff": 15
           },
           "zerolinecolor": "white",
           "zerolinewidth": 2
          },
          "yaxis": {
           "automargin": true,
           "gridcolor": "white",
           "linecolor": "white",
           "ticks": "",
           "title": {
            "standoff": 15
           },
           "zerolinecolor": "white",
           "zerolinewidth": 2
          }
         }
        },
        "title": {
         "text": "Show 20 most common words in the support ticket issue column"
        }
       }
      },
      "text/html": [
       "<div>\n",
       "        \n",
       "        \n",
       "            <div id=\"b783487c-1abb-41a9-8060-72a31a74b7d0\" class=\"plotly-graph-div\" style=\"height:525px; width:100%;\"></div>\n",
       "            <script type=\"text/javascript\">\n",
       "                require([\"plotly\"], function(Plotly) {\n",
       "                    window.PLOTLYENV=window.PLOTLYENV || {};\n",
       "                    \n",
       "                if (document.getElementById(\"b783487c-1abb-41a9-8060-72a31a74b7d0\")) {\n",
       "                    Plotly.newPlot(\n",
       "                        'b783487c-1abb-41a9-8060-72a31a74b7d0',\n",
       "                        [{\"type\": \"bar\", \"x\": [70, 69, 68, 67, 66, 65, 64, 63, 62, 61, 60, 59, 58, 57, 56, 55, 54, 53, 52, 51], \"y\": [\"validation\", \"validated\", \"useraccesslogsvc\", \"uk\", \"transfer\", \"traffic\", \"trade\", \"tenants\", \"tenantid\", \"tenant\", \"sync\", \"suspended\", \"suddenly\", \"sls\", \"signon\", \"services\", \"service\", \"sage\", \"requires\", \"request\"]}],\n",
       "                        {\"template\": {\"data\": {\"bar\": [{\"error_x\": {\"color\": \"#2a3f5f\"}, \"error_y\": {\"color\": \"#2a3f5f\"}, \"marker\": {\"line\": {\"color\": \"#E5ECF6\", \"width\": 0.5}}, \"type\": \"bar\"}], \"barpolar\": [{\"marker\": {\"line\": {\"color\": \"#E5ECF6\", \"width\": 0.5}}, \"type\": \"barpolar\"}], \"carpet\": [{\"aaxis\": {\"endlinecolor\": \"#2a3f5f\", \"gridcolor\": \"white\", \"linecolor\": \"white\", \"minorgridcolor\": \"white\", \"startlinecolor\": \"#2a3f5f\"}, \"baxis\": {\"endlinecolor\": \"#2a3f5f\", \"gridcolor\": \"white\", \"linecolor\": \"white\", \"minorgridcolor\": \"white\", \"startlinecolor\": \"#2a3f5f\"}, \"type\": \"carpet\"}], \"choropleth\": [{\"colorbar\": {\"outlinewidth\": 0, \"ticks\": \"\"}, \"type\": \"choropleth\"}], \"contour\": [{\"colorbar\": {\"outlinewidth\": 0, \"ticks\": \"\"}, \"colorscale\": [[0.0, \"#0d0887\"], [0.1111111111111111, \"#46039f\"], [0.2222222222222222, \"#7201a8\"], [0.3333333333333333, \"#9c179e\"], [0.4444444444444444, \"#bd3786\"], [0.5555555555555556, \"#d8576b\"], [0.6666666666666666, \"#ed7953\"], [0.7777777777777778, \"#fb9f3a\"], [0.8888888888888888, \"#fdca26\"], [1.0, \"#f0f921\"]], \"type\": \"contour\"}], \"contourcarpet\": [{\"colorbar\": {\"outlinewidth\": 0, \"ticks\": \"\"}, \"type\": \"contourcarpet\"}], \"heatmap\": [{\"colorbar\": {\"outlinewidth\": 0, \"ticks\": \"\"}, \"colorscale\": [[0.0, \"#0d0887\"], [0.1111111111111111, \"#46039f\"], [0.2222222222222222, \"#7201a8\"], [0.3333333333333333, \"#9c179e\"], [0.4444444444444444, \"#bd3786\"], [0.5555555555555556, \"#d8576b\"], [0.6666666666666666, \"#ed7953\"], [0.7777777777777778, \"#fb9f3a\"], [0.8888888888888888, \"#fdca26\"], [1.0, \"#f0f921\"]], \"type\": \"heatmap\"}], \"heatmapgl\": [{\"colorbar\": {\"outlinewidth\": 0, \"ticks\": \"\"}, \"colorscale\": [[0.0, \"#0d0887\"], [0.1111111111111111, \"#46039f\"], [0.2222222222222222, \"#7201a8\"], [0.3333333333333333, \"#9c179e\"], [0.4444444444444444, \"#bd3786\"], [0.5555555555555556, \"#d8576b\"], [0.6666666666666666, \"#ed7953\"], [0.7777777777777778, \"#fb9f3a\"], [0.8888888888888888, \"#fdca26\"], [1.0, \"#f0f921\"]], \"type\": \"heatmapgl\"}], \"histogram\": [{\"marker\": {\"colorbar\": {\"outlinewidth\": 0, \"ticks\": \"\"}}, \"type\": \"histogram\"}], \"histogram2d\": [{\"colorbar\": {\"outlinewidth\": 0, \"ticks\": \"\"}, \"colorscale\": [[0.0, \"#0d0887\"], [0.1111111111111111, \"#46039f\"], [0.2222222222222222, \"#7201a8\"], [0.3333333333333333, \"#9c179e\"], [0.4444444444444444, \"#bd3786\"], [0.5555555555555556, \"#d8576b\"], [0.6666666666666666, \"#ed7953\"], [0.7777777777777778, \"#fb9f3a\"], [0.8888888888888888, \"#fdca26\"], [1.0, \"#f0f921\"]], \"type\": \"histogram2d\"}], \"histogram2dcontour\": [{\"colorbar\": {\"outlinewidth\": 0, \"ticks\": \"\"}, \"colorscale\": [[0.0, \"#0d0887\"], [0.1111111111111111, \"#46039f\"], [0.2222222222222222, \"#7201a8\"], [0.3333333333333333, \"#9c179e\"], [0.4444444444444444, \"#bd3786\"], [0.5555555555555556, \"#d8576b\"], [0.6666666666666666, \"#ed7953\"], [0.7777777777777778, \"#fb9f3a\"], [0.8888888888888888, \"#fdca26\"], [1.0, \"#f0f921\"]], \"type\": \"histogram2dcontour\"}], \"mesh3d\": [{\"colorbar\": {\"outlinewidth\": 0, \"ticks\": \"\"}, \"type\": \"mesh3d\"}], \"parcoords\": [{\"line\": {\"colorbar\": {\"outlinewidth\": 0, \"ticks\": \"\"}}, \"type\": \"parcoords\"}], \"pie\": [{\"automargin\": true, \"type\": \"pie\"}], \"scatter\": [{\"marker\": {\"colorbar\": {\"outlinewidth\": 0, \"ticks\": \"\"}}, \"type\": \"scatter\"}], \"scatter3d\": [{\"line\": {\"colorbar\": {\"outlinewidth\": 0, \"ticks\": \"\"}}, \"marker\": {\"colorbar\": {\"outlinewidth\": 0, \"ticks\": \"\"}}, \"type\": \"scatter3d\"}], \"scattercarpet\": [{\"marker\": {\"colorbar\": {\"outlinewidth\": 0, \"ticks\": \"\"}}, \"type\": \"scattercarpet\"}], \"scattergeo\": [{\"marker\": {\"colorbar\": {\"outlinewidth\": 0, \"ticks\": \"\"}}, \"type\": \"scattergeo\"}], \"scattergl\": [{\"marker\": {\"colorbar\": {\"outlinewidth\": 0, \"ticks\": \"\"}}, \"type\": \"scattergl\"}], \"scattermapbox\": [{\"marker\": {\"colorbar\": {\"outlinewidth\": 0, \"ticks\": \"\"}}, \"type\": \"scattermapbox\"}], \"scatterpolar\": [{\"marker\": {\"colorbar\": {\"outlinewidth\": 0, \"ticks\": \"\"}}, \"type\": \"scatterpolar\"}], \"scatterpolargl\": [{\"marker\": {\"colorbar\": {\"outlinewidth\": 0, \"ticks\": \"\"}}, \"type\": \"scatterpolargl\"}], \"scatterternary\": [{\"marker\": {\"colorbar\": {\"outlinewidth\": 0, \"ticks\": \"\"}}, \"type\": \"scatterternary\"}], \"surface\": [{\"colorbar\": {\"outlinewidth\": 0, \"ticks\": \"\"}, \"colorscale\": [[0.0, \"#0d0887\"], [0.1111111111111111, \"#46039f\"], [0.2222222222222222, \"#7201a8\"], [0.3333333333333333, \"#9c179e\"], [0.4444444444444444, \"#bd3786\"], [0.5555555555555556, \"#d8576b\"], [0.6666666666666666, \"#ed7953\"], [0.7777777777777778, \"#fb9f3a\"], [0.8888888888888888, \"#fdca26\"], [1.0, \"#f0f921\"]], \"type\": \"surface\"}], \"table\": [{\"cells\": {\"fill\": {\"color\": \"#EBF0F8\"}, \"line\": {\"color\": \"white\"}}, \"header\": {\"fill\": {\"color\": \"#C8D4E3\"}, \"line\": {\"color\": \"white\"}}, \"type\": \"table\"}]}, \"layout\": {\"annotationdefaults\": {\"arrowcolor\": \"#2a3f5f\", \"arrowhead\": 0, \"arrowwidth\": 1}, \"coloraxis\": {\"colorbar\": {\"outlinewidth\": 0, \"ticks\": \"\"}}, \"colorscale\": {\"diverging\": [[0, \"#8e0152\"], [0.1, \"#c51b7d\"], [0.2, \"#de77ae\"], [0.3, \"#f1b6da\"], [0.4, \"#fde0ef\"], [0.5, \"#f7f7f7\"], [0.6, \"#e6f5d0\"], [0.7, \"#b8e186\"], [0.8, \"#7fbc41\"], [0.9, \"#4d9221\"], [1, \"#276419\"]], \"sequential\": [[0.0, \"#0d0887\"], [0.1111111111111111, \"#46039f\"], [0.2222222222222222, \"#7201a8\"], [0.3333333333333333, \"#9c179e\"], [0.4444444444444444, \"#bd3786\"], [0.5555555555555556, \"#d8576b\"], [0.6666666666666666, \"#ed7953\"], [0.7777777777777778, \"#fb9f3a\"], [0.8888888888888888, \"#fdca26\"], [1.0, \"#f0f921\"]], \"sequentialminus\": [[0.0, \"#0d0887\"], [0.1111111111111111, \"#46039f\"], [0.2222222222222222, \"#7201a8\"], [0.3333333333333333, \"#9c179e\"], [0.4444444444444444, \"#bd3786\"], [0.5555555555555556, \"#d8576b\"], [0.6666666666666666, \"#ed7953\"], [0.7777777777777778, \"#fb9f3a\"], [0.8888888888888888, \"#fdca26\"], [1.0, \"#f0f921\"]]}, \"colorway\": [\"#636efa\", \"#EF553B\", \"#00cc96\", \"#ab63fa\", \"#FFA15A\", \"#19d3f3\", \"#FF6692\", \"#B6E880\", \"#FF97FF\", \"#FECB52\"], \"font\": {\"color\": \"#2a3f5f\"}, \"geo\": {\"bgcolor\": \"white\", \"lakecolor\": \"white\", \"landcolor\": \"#E5ECF6\", \"showlakes\": true, \"showland\": true, \"subunitcolor\": \"white\"}, \"hoverlabel\": {\"align\": \"left\"}, \"hovermode\": \"closest\", \"mapbox\": {\"style\": \"light\"}, \"paper_bgcolor\": \"white\", \"plot_bgcolor\": \"#E5ECF6\", \"polar\": {\"angularaxis\": {\"gridcolor\": \"white\", \"linecolor\": \"white\", \"ticks\": \"\"}, \"bgcolor\": \"#E5ECF6\", \"radialaxis\": {\"gridcolor\": \"white\", \"linecolor\": \"white\", \"ticks\": \"\"}}, \"scene\": {\"xaxis\": {\"backgroundcolor\": \"#E5ECF6\", \"gridcolor\": \"white\", \"gridwidth\": 2, \"linecolor\": \"white\", \"showbackground\": true, \"ticks\": \"\", \"zerolinecolor\": \"white\"}, \"yaxis\": {\"backgroundcolor\": \"#E5ECF6\", \"gridcolor\": \"white\", \"gridwidth\": 2, \"linecolor\": \"white\", \"showbackground\": true, \"ticks\": \"\", \"zerolinecolor\": \"white\"}, \"zaxis\": {\"backgroundcolor\": \"#E5ECF6\", \"gridcolor\": \"white\", \"gridwidth\": 2, \"linecolor\": \"white\", \"showbackground\": true, \"ticks\": \"\", \"zerolinecolor\": \"white\"}}, \"shapedefaults\": {\"line\": {\"color\": \"#2a3f5f\"}}, \"ternary\": {\"aaxis\": {\"gridcolor\": \"white\", \"linecolor\": \"white\", \"ticks\": \"\"}, \"baxis\": {\"gridcolor\": \"white\", \"linecolor\": \"white\", \"ticks\": \"\"}, \"bgcolor\": \"#E5ECF6\", \"caxis\": {\"gridcolor\": \"white\", \"linecolor\": \"white\", \"ticks\": \"\"}}, \"title\": {\"x\": 0.05}, \"xaxis\": {\"automargin\": true, \"gridcolor\": \"white\", \"linecolor\": \"white\", \"ticks\": \"\", \"title\": {\"standoff\": 15}, \"zerolinecolor\": \"white\", \"zerolinewidth\": 2}, \"yaxis\": {\"automargin\": true, \"gridcolor\": \"white\", \"linecolor\": \"white\", \"ticks\": \"\", \"title\": {\"standoff\": 15}, \"zerolinecolor\": \"white\", \"zerolinewidth\": 2}}}, \"title\": {\"text\": \"Show 20 most common words in the support ticket issue column\"}},\n",
       "                        {\"responsive\": true}\n",
       "                    ).then(function(){\n",
       "                            \n",
       "var gd = document.getElementById('b783487c-1abb-41a9-8060-72a31a74b7d0');\n",
       "var x = new MutationObserver(function (mutations, observer) {{\n",
       "        var display = window.getComputedStyle(gd).display;\n",
       "        if (!display || display === 'none') {{\n",
       "            console.log([gd, 'removed!']);\n",
       "            Plotly.purge(gd);\n",
       "            observer.disconnect();\n",
       "        }}\n",
       "}});\n",
       "\n",
       "// Listen for the removal of the full notebook cells\n",
       "var notebookContainer = gd.closest('#notebook-container');\n",
       "if (notebookContainer) {{\n",
       "    x.observe(notebookContainer, {childList: true});\n",
       "}}\n",
       "\n",
       "// Listen for the clearing of the current output cell\n",
       "var outputEl = gd.closest('.output');\n",
       "if (outputEl) {{\n",
       "    x.observe(outputEl, {childList: true});\n",
       "}}\n",
       "\n",
       "                        })\n",
       "                };\n",
       "                });\n",
       "            </script>\n",
       "        </div>"
      ]
     },
     "metadata": {},
     "output_type": "display_data"
    }
   ],
   "source": [
    "import plotly.graph_objects as go\n",
    "\n",
    "sort_texts = sorted(vectorizer.vocabulary_.items(), key=lambda x: x[1], reverse=True)[:20]\n",
    "\n",
    "xplot = []\n",
    "yplot = []\n",
    "for i in sort_texts:\n",
    "    xplot.append(i[1])\n",
    "    yplot.append(i[0])\n",
    "\n",
    "dict_of_fig = dict({\n",
    "    \"data\": [{\"type\": \"bar\",\n",
    "              \"x\": xplot,\n",
    "              \"y\": yplot}],\n",
    "    \"layout\": {\"title\": {\"text\": \"Show 20 most common words in the support ticket issue column\"}}\n",
    "})\n",
    "\n",
    "fig = go.Figure(dict_of_fig)\n",
    "fig.show()\n"
   ]
  },
  {
   "cell_type": "markdown",
   "metadata": {},
   "source": [
    "Another way to display words density and occurrence is by using wordclouds as seen bellow."
   ]
  },
  {
   "cell_type": "code",
   "execution_count": 36,
   "metadata": {},
   "outputs": [
    {
     "data": {
      "image/png": "[encoded data removed]",
      "text/plain": [
       "<Figure size 432x288 with 1 Axes>"
      ]
     },
     "metadata": {
      "needs_background": "light"
     },
     "output_type": "display_data"
    }
   ],
   "source": [
    "from wordcloud import WordCloud, STOPWORDS, ImageColorGenerator\n",
    "import matplotlib.pyplot as plt\n",
    "\n",
    "wordcl = WordCloud(width=800, height=400).generate(\" \".join(data))\n",
    "plt.imshow(wordcl, interpolation='bilinear')\n",
    "plt.axis('off')\n",
    "plt.show()"
   ]
  },
  {
   "cell_type": "markdown",
   "metadata": {},
   "source": [
    "## Implementation\n",
    "\n",
    "Now is the time to train the models and implement the sentence search ability.\n",
    "We will be using two different approaches, ***Indexing by Latent Semantic Analysis*** and ***Doc2Vec*** with ***Paragraph Vector - Distributed Memory***. But, the result of the research will show that one algorithm is more superior then another. The main difference is that Word2vec is a prediction based model i.e given the vector of a word predict the context word vectors(skipgram) while, LSI is a count based model where similar terms have same counts for different documents.\n",
    "\n",
    "### Doc2Vec with Paragraph Vector - Distributed Memory"
   ]
  },
  {
   "cell_type": "code",
   "execution_count": 4,
   "metadata": {},
   "outputs": [
    {
     "name": "stderr",
     "output_type": "stream",
     "text": [
      "[nltk_data] Downloading package stopwords to\n",
      "[nltk_data]     C:\\Users\\stotlyakov\\AppData\\Roaming\\nltk_data...\n",
      "[nltk_data]   Package stopwords is already up-to-date!\n",
      "[nltk_data] Downloading package punkt to\n",
      "[nltk_data]     C:\\Users\\stotlyakov\\AppData\\Roaming\\nltk_data...\n",
      "[nltk_data]   Package punkt is already up-to-date!\n"
     ]
    }
   ],
   "source": [
    "from gensim.models.doc2vec import Doc2Vec, TaggedDocument\n",
    "import nltk\n",
    "nltk.download('stopwords')\n",
    "nltk.download('punkt')\n",
    "from nltk.corpus import stopwords\n",
    "from nltk.tokenize import word_tokenize\n",
    "import re\n",
    "#https://www.nltk.org/api/nltk.tokenize.html\n",
    "#tagged_data = [TaggedDocument(words=word_tokenize(_d.lower()), tags=[str(i)]) for i, _d in enumerate(data)]\n",
    "stop_words = stopwords.words('english')\n",
    "\n",
    "#Remove some common elements that are nor valuable, we can add them to the stopword list\n",
    "stop_words.extend(['-',':'])\n",
    "\n",
    "#Create a function to clean up the words and select the ones that make sense in our case\n",
    "def clenTokens(word_tokens):\n",
    "    #filtered_sentence = [w for w in word_tokens if not w.lower() in stop_words]\n",
    "    filtered_sentence = []\n",
    "    for w in word_tokens:\n",
    "        if w not in stop_words:\n",
    "            #Clean up all numbers and words with numbers but keep 365 because it has meaning to us, this increases the accuracy rate by 2-3%\n",
    "            if re.match('^((?!365)\\w*[0-9]\\w*)$', w):\n",
    "                continue\n",
    "            else:\n",
    "                filtered_sentence.append(w)\n",
    "    return filtered_sentence\n",
    "\n"
   ]
  },
  {
   "cell_type": "markdown",
   "metadata": {},
   "source": [
    "Make a TaggedDocument, a single document, made up of `words` (a list of unicode string tokens)\n",
    "and `tags` (a list of tokens). Tags may be one or more unicode string\n",
    "tokens, but typical practice (which will also be most memory-efficient) is\n",
    "for the tags list to include a unique integer id as the only tag.\n",
    "https://www.kite.com/python/docs/gensim.models.deprecated.doc2vec.TaggedDocument"
   ]
  },
  {
   "cell_type": "code",
   "execution_count": 63,
   "metadata": {},
   "outputs": [],
   "source": [
    "from nltk.util import ngrams\n",
    "tagged_data = [TaggedDocument(words=clenTokens(word_tokenize(_d.lower())), tags=[str(i)]) for i, _d in enumerate(data)]"
   ]
  },
  {
   "cell_type": "code",
   "execution_count": 64,
   "metadata": {},
   "outputs": [
    {
     "data": {
      "text/plain": [
       "[TaggedDocument(words=['microsoft', 'office', '365', '(', 'ca', ')', 'tenants', 'deleted', 'missing', 'maintenancesku'], tags=['0']),\n",
       " TaggedDocument(words=['customer', 'requires', 'manual', 'intervention'], tags=['1']),\n",
       " TaggedDocument(words=['customer', 'service', 'request', 'requires', 'manual', 'intervention'], tags=['2']),\n",
       " TaggedDocument(words=['customer', 'tenant', 'created', 'sage', 'erp'], tags=['3']),\n",
       " TaggedDocument(words=['sage', 'business', 'center', 'consent', 'issue'], tags=['4']),\n",
       " TaggedDocument(words=['office', '365', 'account', 'gone', 'suspended'], tags=['5']),\n",
       " TaggedDocument(words=['uk', 'account', 'transfer', 'failed', ','], tags=['6']),\n",
       " TaggedDocument(words=['invalid', 'email', ',', 'requires', 'manual', 'intervention'], tags=['7']),\n",
       " TaggedDocument(words=['invalid', 'email', 'address', 'us'], tags=['8']),\n",
       " TaggedDocument(words=['duplicate', 'payroll', 'elements', 'found', 'sls', 'data'], tags=['9']),\n",
       " TaggedDocument(words=['customer', 'office', '365', 'tenant', 'deleted', 'sync'], tags=['10']),\n",
       " TaggedDocument(words=['cloud', 'flare', 'protection', 'ce', 'signon', 'endpoint', 'suddenly', 'prevented', 'traffic', 'reach', 'service'], tags=['11']),\n",
       " TaggedDocument(words=['x', 'trade', 'services', '.', 'tenant', 'needs', 'reinstated'], tags=['12']),\n",
       " TaggedDocument(words=['us', 'customer', 'address', 'failed', 'ms', 'validation'], tags=['13']),\n",
       " TaggedDocument(words=['customer', 'address', 'validated', 'ms'], tags=['14']),\n",
       " TaggedDocument(words=['customer', 'entitlement', 'missng', 'contract', 'effective', 'dates'], tags=['15']),\n",
       " TaggedDocument(words=['order', 'placed'], tags=['16']),\n",
       " TaggedDocument(words=['error', 'finding', 'commerce', 'account', 'commerce', 'account', 'found'], tags=['17']),\n",
       " TaggedDocument(words=['activate', 'suspended', 'tenant', 'office', 'sage', 'us'], tags=['18']),\n",
       " TaggedDocument(words=['failed', 'loguseraccess', 'exception', 'message', \"'invalid\", 'tenantid', '[', 'useraccesslogsvc.create', ']', \"'\", 'calling', 'loguseraccess'], tags=['19'])]"
      ]
     },
     "execution_count": 64,
     "metadata": {},
     "output_type": "execute_result"
    }
   ],
   "source": [
    "tagged_data"
   ]
  },
  {
   "cell_type": "markdown",
   "metadata": {},
   "source": [
    "It is time to train the model. The following documentation gives good explanation of the parameters passed.\n",
    "https://radimrehurek.com/gensim/auto_examples/tutorials/run_doc2vec_lee.html#training-the-model"
   ]
  },
  {
   "cell_type": "code",
   "execution_count": 65,
   "metadata": {},
   "outputs": [],
   "source": [
    "max_epochs = 500\n",
    "vec_size =200\n",
    "alpha = 0.03\n",
    "minimum_alpha = 0.0025\n",
    "reduce_alpha = 0.0002\n",
    "\n",
    "model = Doc2Vec(vector_size=vec_size,\n",
    "                alpha=alpha, \n",
    "                min_alpha=minimum_alpha,\n",
    "                #distributed memory (PV-DM)\n",
    "                dm = 1, \n",
    "                #very critical, if min is 2 ormore the result is inacurate, since the data is not big enough\n",
    "                min_count=1)\n",
    "model.build_vocab(tagged_data)\n",
    "\n",
    "# Train the model based on epochs parameter\n",
    "for epoch in range(max_epochs):\n",
    "    model.train(tagged_data, total_examples=model.corpus_count,epochs=20)\n",
    "    \n",
    "    \n",
    "# Save model. \n",
    "model.save(\"similar_sentence.model\")"
   ]
  },
  {
   "cell_type": "markdown",
   "metadata": {},
   "source": [
    "Now we can create function that will use the model to find the best matching sentence "
   ]
  },
  {
   "cell_type": "code",
   "execution_count": 69,
   "metadata": {},
   "outputs": [],
   "source": [
    "\n",
    "def output_sentences(most_similar):\n",
    "    print('\\n')\n",
    "    for label, index in [('Highest match', 0), ('Second match', 1), ('Third match', 2), ('Fourth match', 3)]:\n",
    "      print(u'%s %s: %s\\n' % (label, most_similar[index][1], data[int(most_similar[index][0])]))\n",
    "\n",
    "def runDoc2VecModel(doc):\n",
    "    model= Doc2Vec.load(\"similar_sentence.model\")\n",
    "    tokens = doc.split()\n",
    "    vector = model.infer_vector(tokens)\n",
    "    most_similar = model.dv.most_similar([vector]) \n",
    "\n",
    "    output_sentences(most_similar)"
   ]
  },
  {
   "cell_type": "markdown",
   "metadata": {},
   "source": [
    " ### Latent Semantic Indexing Analysis (LSI)\n",
    " \n",
    " For the second type of algorithm we are using Latent Semantic Indexing Analysis or  LSI. As the name suggests, it is the analysis of latent i.e. ***hidden semantics in a corpora of text***. A collection of documents can be represented as a ***huge term-document matrix***.The main goal of that algorithm is to transform the vectors from one space to another by using ***Singular Value Decomposition*** of term-document matrix. And the most importantly, it enables identifying patterns and relationships between terms and topics.\n",
    "In addition, as the above mentioned approach, it considers cosine similarity to determine the similarity of two vectors. Cosine similarity is a standard measure in Vector Space Modeling\n"
   ]
  },
  {
   "cell_type": "code",
   "execution_count": 66,
   "metadata": {},
   "outputs": [],
   "source": [
    "# remove common words and tokenize\n",
    "from collections import defaultdict\n",
    "from gensim import corpora\n",
    "import re\n",
    "\n",
    "stoplist = set('for a of the and to in - :'.split())\n",
    "\n",
    "cleanedText = []\n",
    "for t in data:\n",
    "    cleanedText.append(re.sub('\\d', '', t))\n",
    "\n",
    "texts2 = [\n",
    "    [word for word in document.lower().split() if word not in stoplist]\n",
    "    for document in cleanedText\n",
    "]\n",
    "\n",
    "# remove words that appear only once\n",
    "frequency = defaultdict(int)\n",
    "for text in texts2:\n",
    "    for token in text:\n",
    "        frequency[token] += 1\n",
    "\n",
    "texts2 = [\n",
    "    [token for token in text if frequency[token] > 1]\n",
    "    for text in texts2\n",
    "]\n",
    "\n",
    "dictionary = corpora.Dictionary(texts2)\n",
    "corpus = [dictionary.doc2bow(text) for text in texts2]\n",
    "from gensim import models\n",
    "lsi = models.LsiModel(corpus, id2word=dictionary, num_topics=2)\n",
    "\n",
    "def runLsiModel(doc):\n",
    "    # doc2bow counts the number of occurrences of each distinct word, converts the \n",
    "    # word to its integer word id and returns the result as a sparse vector. \n",
    "    vec_bow = dictionary.doc2bow(doc.lower().split())\n",
    "    vec_lsi = lsi[vec_bow]  # convert the query to LSI space\n",
    "    #print(vec_lsi)\n",
    "    from gensim import similarities\n",
    "    index = similarities.MatrixSimilarity(lsi[corpus])  # transform corpus to LSI space and index it\n",
    "\n",
    "    sims = index[vec_lsi]  # perform a similarity query against the corpus\n",
    "    #print(list(enumerate(sims)))  # print (document_number, document_similarity) 2-tuples\n",
    "\n",
    "    sims = sorted(enumerate(sims), key=lambda item: -item[1])\n",
    "    for doc_position, doc_score in sims[:9]:\n",
    "        print(doc_score, data[doc_position])"
   ]
  },
  {
   "cell_type": "code",
   "execution_count": 67,
   "metadata": {},
   "outputs": [
    {
     "data": {
      "text/plain": [
       "['Microsoft Office  (CA) tenants being deleted because of missing MaintenanceSKU',\n",
       " 'Customer  requires manual intervention',\n",
       " 'Customer  Service Request requires manual intervention',\n",
       " 'Customer  tenant is not created for Sage  ERP ',\n",
       " 'Sage Business Center consent issue',\n",
       " 'Office  Account that has gone suspended -  INC ',\n",
       " 'UK Account transfer failed for ,  and ',\n",
       " ' - Invalid email, Requires Manual Intervention',\n",
       " 'Invalid email address for O US',\n",
       " 'Duplicate payroll elements found in SLS data',\n",
       " 'Customer Office  tenant deleted during sync',\n",
       " 'Cloud Flare protection to CE SignOn endpoint suddenly prevented traffic to reach service',\n",
       " ' - x Trade Services. Tenant needs to be reinstated',\n",
       " 'O US - Customer address failed MS validation',\n",
       " ' - Customer address not validated  by MS',\n",
       " 'Customer entitlement missng contract effective dates',\n",
       " 'O c order was placed against c',\n",
       " 'Error finding commerce account:Commerce account not found',\n",
       " 'Activate suspended tenant for Office Sage  US - INC - ',\n",
       " \"Failed to LogUserAccess - Exception Message:'Invalid TenantID [UserAccessLogSvc.Create]' - Calling LogUserAccess\"]"
      ]
     },
     "execution_count": 67,
     "metadata": {},
     "output_type": "execute_result"
    }
   ],
   "source": [
    "cleanedText"
   ]
  },
  {
   "cell_type": "code",
   "execution_count": 68,
   "metadata": {},
   "outputs": [
    {
     "name": "stdout",
     "output_type": "stream",
     "text": [
      "0  :  deleted\n",
      "1  :  office\n",
      "2  :  customer\n",
      "3  :  intervention\n",
      "4  :  manual\n",
      "5  :  requires\n",
      "6  :  service\n",
      "7  :  not\n",
      "8  :  sage\n",
      "9  :  tenant\n",
      "10  :  account\n",
      "11  :  inc\n",
      "12  :  suspended\n",
      "13  :  failed\n",
      "14  :  invalid\n",
      "15  :  address\n",
      "16  :  o\n",
      "17  :  us\n",
      "18  :  found\n",
      "19  :  ms\n",
      "20  :  c\n",
      "21  :  loguseraccess\n"
     ]
    }
   ],
   "source": [
    "for key, value in dictionary.items():\n",
    "    print(key, ' : ', value)"
   ]
  },
  {
   "cell_type": "markdown",
   "metadata": {},
   "source": [
    "Use the models and see which one performs better"
   ]
  },
  {
   "cell_type": "code",
   "execution_count": 75,
   "metadata": {},
   "outputs": [
    {
     "name": "stdout",
     "output_type": "stream",
     "text": [
      "0.999502 63823004 - x Trade Services. Tenant needs to be reinstated\n",
      "0.99909574 UK Account transfer failed for 122121, 12112 and 12121\n",
      "0.99577045 Duplicate payroll elements found in SLS data\n",
      "0.99561965 Error finding commerce account:Commerce account not found\n",
      "0.9952506 Sage Business Center consent issue\n",
      "0.9893352 Activate suspended tenant for Office Sage 50 US - INC0660437 - 1321313131\n",
      "0.98685205 Microsoft Office 365 (CA) tenants being deleted because of missing MaintenanceSKU\n",
      "0.9587846 Office 365 Account that has gone suspended -  INC0732959 \n",
      "0.9515136 Customer Office 365 tenant deleted during sync\n",
      "\n",
      "\n",
      "Highest match 0.6758844256401062: Customer Office 365 tenant deleted during sync\n",
      "\n",
      "Second match 0.6679433584213257: Microsoft Office 365 (CA) tenants being deleted because of missing MaintenanceSKU\n",
      "\n",
      "Third match 0.5289478302001953: 63823004 - x Trade Services. Tenant needs to be reinstated\n",
      "\n",
      "Fourth match 0.5114109516143799: O365 200c order was placed against 50c\n",
      "\n"
     ]
    }
   ],
   "source": [
    "# \"my tennat got deleted\"\n",
    "# \"address failed validation\"\n",
    "testText = \"my tennat got deleted\"\n",
    "runLsiModel(testText)\n",
    "runDoc2VecModel(testText)"
   ]
  },
  {
   "cell_type": "markdown",
   "metadata": {},
   "source": [
    "### Conclusion\n",
    "While we see that the confidence rate of the LSI model is higher there are a lot of false positives. We can see that the Doc2Vec algorithm captures the similarity in a batter way. External research also proves that the prediction based models are the better tool for similar sentence search (https://www.aclweb.org/anthology/Q15-1016/) . Neural network models have shown to perform quite better using these dense pretrained word2vec/doc2vec embedding for various tasks in NLP like sentence representation, information retrieval, knowledge extraction, semantic parsing and so on. \n",
    "\n",
    "### Further research\n",
    "As we see from the neural approach doc2Vec or word2Vec, there is a difficulty when representing the accuracy. The algorithm provides a lot of fine-tuning mechanism that need to be explored. A lot of those options depend on the size of the data. Another improvement will be to add n-grams to the dictionary of tagged document. This will allow close match when only couple of words are entered in the search criteria.\n"
   ]
  },
  {
   "cell_type": "markdown",
   "metadata": {},
   "source": [
    "## Resources\n",
    "https://datascience.stackexchange.com/questions/68082/semantic-text-similarity-using-bert https://github.com/llSourcell/word_vectors_game_of_thrones-LIVE/blob/master/demo.ipynb https://github.com/llSourcell/word_vectors_game_of_thrones-LIVE/blob/master/Thrones2Vec.ipynb https://github.com/hanxiao/bert-as-service#building-a-qa-semantic-search-engine-in-3-minutes https://colab.research.google.com/drive/1W5yvUDjgidfiwIgo9ZMiztbaLyYOW2V5#scrollTo=beP_QyyXkhsl https://shangan.medium.com/semantic-similar-sentences-with-your-dataset-nlp-94fd1d49d231 https://rare-technologies.com/doc2vec-tutorial/ https://realpython.com/nltk-nlp-python/ https://towardsdatascience.com/overview-of-text-similarity-metrics-3397c4601f50 https://stackabuse.com/python-for-nlp-working-with-the-gensim-library-part-1\n",
    "https://radimrehurek.com/gensim/auto_examples/tutorials/run_doc2vec_lee.html\n",
    "https://towardsdatascience.com/word2vec-for-phrases-learning-embeddings-for-more-than-one-word-727b6cf723cf\n",
    "https://www.linkedin.com/pulse/word-embeddings-word2vec-latent-semantic-analysis-shrikar-archak\n"
   ]
  },
  {
   "cell_type": "code",
   "execution_count": null,
   "metadata": {},
   "outputs": [],
   "source": [
    " "
   ]
  }
 ],
 "metadata": {
  "kernelspec": {
   "display_name": "Python 3",
   "language": "python",
   "name": "python3"
  },
  "language_info": {
   "codemirror_mode": {
    "name": "ipython",
    "version": 3
   },
   "file_extension": ".py",
   "mimetype": "text/x-python",
   "name": "python",
   "nbconvert_exporter": "python",
   "pygments_lexer": "ipython3",
   "version": "3.8.5"
  }
 },
 "nbformat": 4,
 "nbformat_minor": 4
}
