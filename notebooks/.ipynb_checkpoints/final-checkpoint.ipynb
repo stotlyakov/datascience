{
 "cells": [
  {
   "cell_type": "markdown",
   "metadata": {},
   "source": [
    "https://datascience.stackexchange.com/questions/68082/semantic-text-similarity-using-bert\n",
    "https://github.com/llSourcell/word_vectors_game_of_thrones-LIVE/blob/master/demo.ipynb\n",
    "https://github.com/llSourcell/word_vectors_game_of_thrones-LIVE/blob/master/Thrones2Vec.ipynb\n",
    "https://github.com/hanxiao/bert-as-service#building-a-qa-semantic-search-engine-in-3-minutes\n",
    "https://colab.research.google.com/drive/1W5yvUDjgidfiwIgo9ZMiztbaLyYOW2V5#scrollTo=beP_QyyXkhsl\n",
    "https://shangan.medium.com/semantic-similar-sentences-with-your-dataset-nlp-94fd1d49d231\n",
    "https://rare-technologies.com/doc2vec-tutorial/\n",
    "https://realpython.com/nltk-nlp-python/\n",
    "https://towardsdatascience.com/overview-of-text-similarity-metrics-3397c4601f50\n",
    "https://stackabuse.com/python-for-nlp-working-with-the-gensim-library-part-1\n",
    "\n",
    "\n",
    "To find similar sentence we will be using mbedding technique provided by NLP. Sentences will be tokenized by converting them to numbers and then represented in a Vector format. The vector is then used with cosine similarity or distance algorithm to find the shortest distance to the word or words."
   ]
  },
  {
   "cell_type": "code",
   "execution_count": 32,
   "metadata": {
    "scrolled": true
   },
   "outputs": [
    {
     "name": "stdout",
     "output_type": "stream",
     "text": [
      "Requirement already satisfied: gensim in c:\\users\\stotlyakov\\anaconda3\\lib\\site-packages (4.0.1)\n",
      "Requirement already satisfied: numpy>=1.11.3 in c:\\users\\stotlyakov\\anaconda3\\lib\\site-packages (from gensim) (1.20.3)\n",
      "Requirement already satisfied: scipy>=0.18.1 in c:\\users\\stotlyakov\\anaconda3\\lib\\site-packages (from gensim) (1.6.3)\n",
      "Requirement already satisfied: smart-open>=1.8.1 in c:\\users\\stotlyakov\\anaconda3\\lib\\site-packages (from gensim) (5.1.0)\n",
      "Requirement already satisfied: Cython==0.29.21 in c:\\users\\stotlyakov\\anaconda3\\lib\\site-packages (from gensim) (0.29.21)\n",
      "Requirement already satisfied: nltk in c:\\users\\stotlyakov\\anaconda3\\lib\\site-packages (3.5)\n",
      "Requirement already satisfied: click in c:\\users\\stotlyakov\\anaconda3\\lib\\site-packages (from nltk) (7.1.2)\n",
      "Requirement already satisfied: regex in c:\\users\\stotlyakov\\anaconda3\\lib\\site-packages (from nltk) (2020.10.15)\n",
      "Requirement already satisfied: tqdm in c:\\users\\stotlyakov\\anaconda3\\lib\\site-packages (from nltk) (4.50.2)\n",
      "Requirement already satisfied: joblib in c:\\users\\stotlyakov\\anaconda3\\lib\\site-packages (from nltk) (0.17.0)\n",
      "Collecting wordcloud\n",
      "  Downloading wordcloud-1.8.1-cp38-cp38-win_amd64.whl (155 kB)\n",
      "Requirement already satisfied: matplotlib in c:\\users\\stotlyakov\\anaconda3\\lib\\site-packages (from wordcloud) (3.3.2)\n",
      "Requirement already satisfied: pillow in c:\\users\\stotlyakov\\anaconda3\\lib\\site-packages (from wordcloud) (8.0.1)\n",
      "Requirement already satisfied: numpy>=1.6.1 in c:\\users\\stotlyakov\\anaconda3\\lib\\site-packages (from wordcloud) (1.20.3)\n",
      "Requirement already satisfied: kiwisolver>=1.0.1 in c:\\users\\stotlyakov\\anaconda3\\lib\\site-packages (from matplotlib->wordcloud) (1.3.0)\n",
      "Requirement already satisfied: certifi>=2020.06.20 in c:\\users\\stotlyakov\\anaconda3\\lib\\site-packages (from matplotlib->wordcloud) (2021.5.30)\n",
      "Requirement already satisfied: pyparsing!=2.0.4,!=2.1.2,!=2.1.6,>=2.0.3 in c:\\users\\stotlyakov\\anaconda3\\lib\\site-packages (from matplotlib->wordcloud) (2.4.7)\n",
      "Requirement already satisfied: cycler>=0.10 in c:\\users\\stotlyakov\\anaconda3\\lib\\site-packages (from matplotlib->wordcloud) (0.10.0)\n",
      "Requirement already satisfied: python-dateutil>=2.1 in c:\\users\\stotlyakov\\anaconda3\\lib\\site-packages (from matplotlib->wordcloud) (2.8.1)\n",
      "Requirement already satisfied: six in c:\\users\\stotlyakov\\anaconda3\\lib\\site-packages (from cycler>=0.10->matplotlib->wordcloud) (1.16.0)\n",
      "Installing collected packages: wordcloud\n",
      "Successfully installed wordcloud-1.8.1\n"
     ]
    }
   ],
   "source": [
    "!pip install gensim\n",
    "!pip install nltk\n",
    "!pip install wordcloud"
   ]
  },
  {
   "cell_type": "code",
   "execution_count": null,
   "metadata": {},
   "outputs": [],
   "source": []
  },
  {
   "cell_type": "code",
   "execution_count": null,
   "metadata": {},
   "outputs": [],
   "source": []
  },
  {
   "cell_type": "code",
   "execution_count": 16,
   "metadata": {},
   "outputs": [],
   "source": [
    "import pandas as pd\n",
    "from sklearn.feature_extraction.text import TfidfVectorizer\n",
    "from sklearn.cluster import KMeans\n",
    "from sklearn.metrics import adjusted_rand_score\n",
    "import numpy"
   ]
  },
  {
   "cell_type": "code",
   "execution_count": 17,
   "metadata": {},
   "outputs": [
    {
     "name": "stdout",
     "output_type": "stream",
     "text": [
      "['Microsoft Office 365 (CA) tenants being deleted because of missing MaintenanceSKU', 'Customer 0123456789 requires manual intervention', 'Customer 0123456789 Service Request requires manual intervention', 'Customer 0123456789 tenant is not created for Sage 100 ERP ', 'Sage Business Center consent issue', 'Office 365 Account that has gone suspended -  INC0732959 ', 'UK Account transfer failed for 64256790, 64256949 and 64254058', '4007045975 - Invalid email, Requires Manual Intervention', 'Invalid email address for O365 US', 'Duplicate payroll elements found in SLS data', 'Customer Office 365 tenant deleted during sync', 'Cloud Flare protection to CE SignOn endpoint suddenly prevented traffic to reach service', '63823004 - x Trade Services. Tenant needs to be reinstated', 'O365 US - Customer address failed MS validation', '020202020 - Customer address not validated  by MS', 'Customer entitlement missng contract effective dates', 'O365 200c order was placed against 50c', 'Error finding commerce account:Commerce account not found', 'Activate suspended tenant for Office Sage 50 US - INC0660437 - 4001542273', \"Failed to LogUserAccess - Exception Message:'Invalid TenantID [UserAccessLogSvc.Create]' - Calling LogUserAccess\"]\n"
     ]
    }
   ],
   "source": [
    "path = '../data/Live Site Issues.csv'\n",
    "liveSiteAll = pd.read_csv(path)\n",
    "liveSiteAll.drop(['App Created By','App Modified By','Content Type','Modified','Modified By','Item Type','Item Type','Defect number','Assigned To','Status','Time Taken CE to Resolve the Issue','Folder Child Count','Path','Item Child Count','Time taken to unblock the customer'], inplace=True, axis=1)\n",
    "\n",
    "liveSiteAllDescSol = liveSiteAll['Issue']\n",
    "\n",
    "liveSiteAllDescSolSubset = liveSiteAllDescSol.head(20)\n",
    "data = liveSiteAllDescSolSubset.values.tolist()\n",
    "print(data)\n"
   ]
  },
  {
   "cell_type": "code",
   "execution_count": 24,
   "metadata": {},
   "outputs": [
    {
     "name": "stderr",
     "output_type": "stream",
     "text": [
      "[nltk_data] Downloading package stopwords to\n",
      "[nltk_data]     C:\\Users\\stotlyakov\\AppData\\Roaming\\nltk_data...\n",
      "[nltk_data]   Package stopwords is already up-to-date!\n",
      "[nltk_data] Downloading package punkt to\n",
      "[nltk_data]     C:\\Users\\stotlyakov\\AppData\\Roaming\\nltk_data...\n",
      "[nltk_data]   Package punkt is already up-to-date!\n"
     ]
    }
   ],
   "source": [
    "from gensim.models.doc2vec import Doc2Vec, TaggedDocument\n",
    "from nltk.corpus import stopwords\n",
    "import nltk\n",
    "nltk.download('stopwords')\n",
    "nltk.download('punkt')\n",
    "from nltk.tokenize import word_tokenize\n",
    "\n",
    "#https://www.nltk.org/api/nltk.tokenize.html\n",
    "#tagged_data = [TaggedDocument(words=word_tokenize(_d.lower()), tags=[str(i)]) for i, _d in enumerate(data)]\n",
    "stop_words = stopwords.words('english')\n",
    "stop_words.extend(['-'])\n",
    "def clenTokens(word_tokens):\n",
    "    filtered_sentence = [w for w in word_tokens if not w.lower() in stop_words]\n",
    "    filtered_sentence = []\n",
    " \n",
    "    for w in word_tokens:\n",
    "        if w not in stop_words:\n",
    "            filtered_sentence.append(w)\n",
    "    return filtered_sentence\n",
    "    \n",
    "tagged_data = [TaggedDocument(words=clenTokens(word_tokenize(_d.lower())), tags=[str(i)]) for i, _d in enumerate(data)]\n",
    "\n",
    "# hyper parameters\n",
    "#https://radimrehurek.com/gensim/models/doc2vec.html\n",
    "max_epochs = 500\n",
    "vec_size =200\n",
    "alpha = 0.03\n",
    "minimum_alpha = 0.0025\n",
    "reduce_alpha = 0.0002\n",
    "\n",
    "\n",
    "model = Doc2Vec(vector_size=vec_size,\n",
    "                alpha=alpha, \n",
    "                min_alpha=minimum_alpha,\n",
    "                dm =1,#distributed memory (PV-DM) \n",
    "               min_count=1)#very critical, if min is 2 ormore the result is inacurate\n",
    "model.build_vocab(tagged_data)\n",
    "\n",
    "# Train the model based on epochs parameter\n",
    "for epoch in range(max_epochs):\n",
    "    model.train(tagged_data,\n",
    "                total_examples=model.corpus_count,\n",
    "                epochs=20)\n",
    "    \n",
    "    \n",
    "# Save model. \n",
    "model.save(\"similar_sentence.model\")\n"
   ]
  },
  {
   "cell_type": "code",
   "execution_count": 21,
   "metadata": {},
   "outputs": [
    {
     "data": {
      "text/plain": [
       "['i',\n",
       " 'me',\n",
       " 'my',\n",
       " 'myself',\n",
       " 'we',\n",
       " 'our',\n",
       " 'ours',\n",
       " 'ourselves',\n",
       " 'you',\n",
       " \"you're\",\n",
       " \"you've\",\n",
       " \"you'll\",\n",
       " \"you'd\",\n",
       " 'your',\n",
       " 'yours',\n",
       " 'yourself',\n",
       " 'yourselves',\n",
       " 'he',\n",
       " 'him',\n",
       " 'his',\n",
       " 'himself',\n",
       " 'she',\n",
       " \"she's\",\n",
       " 'her',\n",
       " 'hers',\n",
       " 'herself',\n",
       " 'it',\n",
       " \"it's\",\n",
       " 'its',\n",
       " 'itself',\n",
       " 'they',\n",
       " 'them',\n",
       " 'their',\n",
       " 'theirs',\n",
       " 'themselves',\n",
       " 'what',\n",
       " 'which',\n",
       " 'who',\n",
       " 'whom',\n",
       " 'this',\n",
       " 'that',\n",
       " \"that'll\",\n",
       " 'these',\n",
       " 'those',\n",
       " 'am',\n",
       " 'is',\n",
       " 'are',\n",
       " 'was',\n",
       " 'were',\n",
       " 'be',\n",
       " 'been',\n",
       " 'being',\n",
       " 'have',\n",
       " 'has',\n",
       " 'had',\n",
       " 'having',\n",
       " 'do',\n",
       " 'does',\n",
       " 'did',\n",
       " 'doing',\n",
       " 'a',\n",
       " 'an',\n",
       " 'the',\n",
       " 'and',\n",
       " 'but',\n",
       " 'if',\n",
       " 'or',\n",
       " 'because',\n",
       " 'as',\n",
       " 'until',\n",
       " 'while',\n",
       " 'of',\n",
       " 'at',\n",
       " 'by',\n",
       " 'for',\n",
       " 'with',\n",
       " 'about',\n",
       " 'against',\n",
       " 'between',\n",
       " 'into',\n",
       " 'through',\n",
       " 'during',\n",
       " 'before',\n",
       " 'after',\n",
       " 'above',\n",
       " 'below',\n",
       " 'to',\n",
       " 'from',\n",
       " 'up',\n",
       " 'down',\n",
       " 'in',\n",
       " 'out',\n",
       " 'on',\n",
       " 'off',\n",
       " 'over',\n",
       " 'under',\n",
       " 'again',\n",
       " 'further',\n",
       " 'then',\n",
       " 'once',\n",
       " 'here',\n",
       " 'there',\n",
       " 'when',\n",
       " 'where',\n",
       " 'why',\n",
       " 'how',\n",
       " 'all',\n",
       " 'any',\n",
       " 'both',\n",
       " 'each',\n",
       " 'few',\n",
       " 'more',\n",
       " 'most',\n",
       " 'other',\n",
       " 'some',\n",
       " 'such',\n",
       " 'no',\n",
       " 'nor',\n",
       " 'not',\n",
       " 'only',\n",
       " 'own',\n",
       " 'same',\n",
       " 'so',\n",
       " 'than',\n",
       " 'too',\n",
       " 'very',\n",
       " 's',\n",
       " 't',\n",
       " 'can',\n",
       " 'will',\n",
       " 'just',\n",
       " 'don',\n",
       " \"don't\",\n",
       " 'should',\n",
       " \"should've\",\n",
       " 'now',\n",
       " 'd',\n",
       " 'll',\n",
       " 'm',\n",
       " 'o',\n",
       " 're',\n",
       " 've',\n",
       " 'y',\n",
       " 'ain',\n",
       " 'aren',\n",
       " \"aren't\",\n",
       " 'couldn',\n",
       " \"couldn't\",\n",
       " 'didn',\n",
       " \"didn't\",\n",
       " 'doesn',\n",
       " \"doesn't\",\n",
       " 'hadn',\n",
       " \"hadn't\",\n",
       " 'hasn',\n",
       " \"hasn't\",\n",
       " 'haven',\n",
       " \"haven't\",\n",
       " 'isn',\n",
       " \"isn't\",\n",
       " 'ma',\n",
       " 'mightn',\n",
       " \"mightn't\",\n",
       " 'mustn',\n",
       " \"mustn't\",\n",
       " 'needn',\n",
       " \"needn't\",\n",
       " 'shan',\n",
       " \"shan't\",\n",
       " 'shouldn',\n",
       " \"shouldn't\",\n",
       " 'wasn',\n",
       " \"wasn't\",\n",
       " 'weren',\n",
       " \"weren't\",\n",
       " 'won',\n",
       " \"won't\",\n",
       " 'wouldn',\n",
       " \"wouldn't\",\n",
       " '-']"
      ]
     },
     "execution_count": 21,
     "metadata": {},
     "output_type": "execute_result"
    }
   ],
   "source": [
    "stop_words"
   ]
  },
  {
   "cell_type": "markdown",
   "metadata": {},
   "source": [
    "Use the model"
   ]
  },
  {
   "cell_type": "code",
   "execution_count": 25,
   "metadata": {},
   "outputs": [
    {
     "name": "stdout",
     "output_type": "stream",
     "text": [
      "\n",
      "\n",
      "Highest match 0.6656834483146667: 020202020 - Customer address not validated  by MS\n",
      "\n",
      "Second match 0.6158204078674316: O365 US - Customer address failed MS validation\n",
      "\n",
      "Third match 0.5566930174827576: Error finding commerce account:Commerce account not found\n",
      "\n",
      "Fourth match 0.5545989871025085: Invalid email address for O365 US\n",
      "\n",
      "=====================\n",
      "\n"
     ]
    }
   ],
   "source": [
    "model= Doc2Vec.load(\"similar_sentence.model\")\n",
    "\n",
    "def output_sentences(most_similar):\n",
    "    print('\\n')\n",
    "    for label, index in [('Highest match', 0), ('Second match', 1), ('Third match', 2), ('Fourth match', 3)]:\n",
    "      print(u'%s %s: %s\\n' % (label, most_similar[index][1], data[int(most_similar[index][0])]))\n",
    "    print('=====================\\n')\n",
    " \n",
    "seed_text = 'Customer address is not valid'\n",
    "tokens = seed_text.split()\n",
    "vector = model.infer_vector(tokens)\n",
    "most_similar = model.dv.most_similar([vector]) \n",
    "\n",
    "output_sentences(most_similar)"
   ]
  },
  {
   "cell_type": "code",
   "execution_count": 26,
   "metadata": {},
   "outputs": [
    {
     "name": "stdout",
     "output_type": "stream",
     "text": [
      "[TaggedDocument(words=['microsoft', 'office', '365', '(', 'ca', ')', 'tenants', 'deleted', 'missing', 'maintenancesku'], tags=['0']), TaggedDocument(words=['customer', '0123456789', 'requires', 'manual', 'intervention'], tags=['1']), TaggedDocument(words=['customer', '0123456789', 'service', 'request', 'requires', 'manual', 'intervention'], tags=['2']), TaggedDocument(words=['customer', '0123456789', 'tenant', 'created', 'sage', '100', 'erp'], tags=['3']), TaggedDocument(words=['sage', 'business', 'center', 'consent', 'issue'], tags=['4']), TaggedDocument(words=['office', '365', 'account', 'gone', 'suspended', 'inc0732959'], tags=['5']), TaggedDocument(words=['uk', 'account', 'transfer', 'failed', '64256790', ',', '64256949', '64254058'], tags=['6']), TaggedDocument(words=['4007045975', 'invalid', 'email', ',', 'requires', 'manual', 'intervention'], tags=['7']), TaggedDocument(words=['invalid', 'email', 'address', 'o365', 'us'], tags=['8']), TaggedDocument(words=['duplicate', 'payroll', 'elements', 'found', 'sls', 'data'], tags=['9']), TaggedDocument(words=['customer', 'office', '365', 'tenant', 'deleted', 'sync'], tags=['10']), TaggedDocument(words=['cloud', 'flare', 'protection', 'ce', 'signon', 'endpoint', 'suddenly', 'prevented', 'traffic', 'reach', 'service'], tags=['11']), TaggedDocument(words=['63823004', 'x', 'trade', 'services', '.', 'tenant', 'needs', 'reinstated'], tags=['12']), TaggedDocument(words=['o365', 'us', 'customer', 'address', 'failed', 'ms', 'validation'], tags=['13']), TaggedDocument(words=['020202020', 'customer', 'address', 'validated', 'ms'], tags=['14']), TaggedDocument(words=['customer', 'entitlement', 'missng', 'contract', 'effective', 'dates'], tags=['15']), TaggedDocument(words=['o365', '200c', 'order', 'placed', '50c'], tags=['16']), TaggedDocument(words=['error', 'finding', 'commerce', 'account', ':', 'commerce', 'account', 'found'], tags=['17']), TaggedDocument(words=['activate', 'suspended', 'tenant', 'office', 'sage', '50', 'us', 'inc0660437', '4001542273'], tags=['18']), TaggedDocument(words=['failed', 'loguseraccess', 'exception', 'message', ':', \"'invalid\", 'tenantid', '[', 'useraccesslogsvc.create', ']', \"'\", 'calling', 'loguseraccess'], tags=['19'])]\n"
     ]
    }
   ],
   "source": [
    "print(tagged_data)"
   ]
  },
  {
   "cell_type": "markdown",
   "metadata": {},
   "source": [
    "## Do some analytics on the available support text. Find out the common issues."
   ]
  },
  {
   "cell_type": "code",
   "execution_count": 27,
   "metadata": {},
   "outputs": [
    {
     "name": "stdout",
     "output_type": "stream",
     "text": [
      "words ['0123456789', '020202020', '100', '200c', '365', '4001542273', '4007045975', '50', '50c', '63823004', '64254058', '64256790', '64256949', 'account', 'activate', 'address', 'business', 'ca', 'calling', 'ce', 'center', 'cloud', 'commerce', 'consent', 'contract', 'create', 'created', 'customer', 'data', 'dates', 'deleted', 'duplicate', 'effective', 'elements', 'email', 'endpoint', 'entitlement', 'erp', 'error', 'exception', 'failed', 'finding', 'flare', 'gone', 'inc0660437', 'inc0732959', 'intervention', 'invalid', 'issue', 'loguseraccess', 'maintenancesku', 'manual', 'message', 'microsoft', 'missing', 'missng', 'ms', 'needs', 'o365', 'office', 'order', 'payroll', 'placed', 'prevented', 'protection', 'reach', 'reinstated', 'request', 'requires', 'sage', 'service', 'services', 'signon', 'sls', 'suddenly', 'suspended', 'sync', 'tenant', 'tenantid', 'tenants', 'trade', 'traffic', 'transfer', 'uk', 'useraccesslogsvc', 'validated', 'validation']\n",
      "centers: [[ 0.00000000e+00  0.00000000e+00  0.00000000e+00  0.00000000e+00\n",
      "   0.00000000e+00  0.00000000e+00  0.00000000e+00  0.00000000e+00\n",
      "   0.00000000e+00  0.00000000e+00  0.00000000e+00  0.00000000e+00\n",
      "   0.00000000e+00  0.00000000e+00  0.00000000e+00  0.00000000e+00\n",
      "   2.32391615e-01  0.00000000e+00  0.00000000e+00  0.00000000e+00\n",
      "   2.32391615e-01  0.00000000e+00  0.00000000e+00  2.32391615e-01\n",
      "   0.00000000e+00  0.00000000e+00  0.00000000e+00  0.00000000e+00\n",
      "   2.23606798e-01  0.00000000e+00  0.00000000e+00  2.23606798e-01\n",
      "   0.00000000e+00  2.23606798e-01  0.00000000e+00  0.00000000e+00\n",
      "   0.00000000e+00  0.00000000e+00  0.00000000e+00  0.00000000e+00\n",
      "   0.00000000e+00  0.00000000e+00  0.00000000e+00  0.00000000e+00\n",
      "   0.00000000e+00  0.00000000e+00  0.00000000e+00  0.00000000e+00\n",
      "   2.32391615e-01  0.00000000e+00  0.00000000e+00  0.00000000e+00\n",
      "   0.00000000e+00  0.00000000e+00  0.00000000e+00  0.00000000e+00\n",
      "   0.00000000e+00  0.00000000e+00  0.00000000e+00  0.00000000e+00\n",
      "   0.00000000e+00  2.23606798e-01  0.00000000e+00  0.00000000e+00\n",
      "   0.00000000e+00  0.00000000e+00  0.00000000e+00  0.00000000e+00\n",
      "   0.00000000e+00  1.84327289e-01  0.00000000e+00  0.00000000e+00\n",
      "   0.00000000e+00  2.23606798e-01  0.00000000e+00  0.00000000e+00\n",
      "   0.00000000e+00  0.00000000e+00  0.00000000e+00  0.00000000e+00\n",
      "   0.00000000e+00  0.00000000e+00  0.00000000e+00  0.00000000e+00\n",
      "   0.00000000e+00  0.00000000e+00  0.00000000e+00]\n",
      " [ 0.00000000e+00  0.00000000e+00  0.00000000e+00  0.00000000e+00\n",
      "   3.54059787e-01  0.00000000e+00  0.00000000e+00  0.00000000e+00\n",
      "   0.00000000e+00  0.00000000e+00  0.00000000e+00  0.00000000e+00\n",
      "   0.00000000e+00  0.00000000e+00  0.00000000e+00  0.00000000e+00\n",
      "   0.00000000e+00  1.89937970e-01  0.00000000e+00  0.00000000e+00\n",
      "   0.00000000e+00  0.00000000e+00  0.00000000e+00  0.00000000e+00\n",
      "   0.00000000e+00  0.00000000e+00  0.00000000e+00  1.50366563e-01\n",
      "   0.00000000e+00  0.00000000e+00  3.92377287e-01  0.00000000e+00\n",
      "   0.00000000e+00  0.00000000e+00  0.00000000e+00  0.00000000e+00\n",
      "   0.00000000e+00  0.00000000e+00  0.00000000e+00  0.00000000e+00\n",
      "   0.00000000e+00  0.00000000e+00  0.00000000e+00  0.00000000e+00\n",
      "   0.00000000e+00  0.00000000e+00  0.00000000e+00  0.00000000e+00\n",
      "   0.00000000e+00  0.00000000e+00  1.89937970e-01  0.00000000e+00\n",
      "   0.00000000e+00  1.89937970e-01  1.89937970e-01  0.00000000e+00\n",
      "   0.00000000e+00  0.00000000e+00  0.00000000e+00  3.24338426e-01\n",
      "   0.00000000e+00  0.00000000e+00  0.00000000e+00  0.00000000e+00\n",
      "   0.00000000e+00  0.00000000e+00  0.00000000e+00  0.00000000e+00\n",
      "   0.00000000e+00  0.00000000e+00  0.00000000e+00  0.00000000e+00\n",
      "   0.00000000e+00  0.00000000e+00  0.00000000e+00  0.00000000e+00\n",
      "   2.56444800e-01  1.86330899e-01  0.00000000e+00  1.89937970e-01\n",
      "   0.00000000e+00  0.00000000e+00  0.00000000e+00  0.00000000e+00\n",
      "   0.00000000e+00  0.00000000e+00  0.00000000e+00]\n",
      " [ 6.93889390e-18  3.46944695e-18  3.46944695e-18  1.54927743e-01\n",
      "   0.00000000e+00  3.46944695e-18  3.46944695e-18  3.46944695e-18\n",
      "   1.54927743e-01  3.46944695e-18  0.00000000e+00  0.00000000e+00\n",
      "   0.00000000e+00  6.93889390e-18  3.46944695e-18  1.62107498e-01\n",
      "   3.46944695e-18  0.00000000e+00  9.93443612e-02  0.00000000e+00\n",
      "   3.46944695e-18  0.00000000e+00  0.00000000e+00  3.46944695e-18\n",
      "   3.46944695e-18  9.93443612e-02  3.46944695e-18  1.38777878e-17\n",
      "   0.00000000e+00  3.46944695e-18  0.00000000e+00  0.00000000e+00\n",
      "   3.46944695e-18  0.00000000e+00  1.79651297e-01  0.00000000e+00\n",
      "   3.46944695e-18  3.46944695e-18  0.00000000e+00  9.93443612e-02\n",
      "   7.87974936e-02  0.00000000e+00  0.00000000e+00  0.00000000e+00\n",
      "   3.46944695e-18  0.00000000e+00  0.00000000e+00  2.40904991e-01\n",
      "   3.46944695e-18  1.98688722e-01  0.00000000e+00  0.00000000e+00\n",
      "   9.93443612e-02  0.00000000e+00  0.00000000e+00  3.46944695e-18\n",
      "   6.93889390e-18  3.46944695e-18  2.84992357e-01  1.38777878e-17\n",
      "   1.54927743e-01  0.00000000e+00  1.54927743e-01  0.00000000e+00\n",
      "   0.00000000e+00  0.00000000e+00  3.46944695e-18  0.00000000e+00\n",
      "   0.00000000e+00  6.93889390e-18  6.93889390e-18  3.46944695e-18\n",
      "   0.00000000e+00  0.00000000e+00  0.00000000e+00  0.00000000e+00\n",
      "   0.00000000e+00  0.00000000e+00  9.93443612e-02  0.00000000e+00\n",
      "   3.46944695e-18  0.00000000e+00  0.00000000e+00  0.00000000e+00\n",
      "   9.93443612e-02  3.46944695e-18  0.00000000e+00]\n",
      " [-6.93889390e-18  1.03340172e-01 -3.46944695e-18 -3.46944695e-18\n",
      "   0.00000000e+00 -3.46944695e-18 -3.46944695e-18 -3.46944695e-18\n",
      "  -3.46944695e-18 -3.46944695e-18  7.99472259e-02  7.99472259e-02\n",
      "   7.99472259e-02  6.34121650e-02 -3.46944695e-18  1.61246198e-01\n",
      "  -3.46944695e-18  0.00000000e+00 -1.73472348e-18  6.09352167e-02\n",
      "  -3.46944695e-18  6.09352167e-02  0.00000000e+00 -3.46944695e-18\n",
      "   8.65176296e-02 -1.73472348e-18 -3.46944695e-18  1.69930054e-01\n",
      "   0.00000000e+00  8.65176296e-02  0.00000000e+00  0.00000000e+00\n",
      "   8.65176296e-02  0.00000000e+00  0.00000000e+00  6.09352167e-02\n",
      "   8.65176296e-02 -3.46944695e-18  0.00000000e+00 -1.73472348e-18\n",
      "   1.42691490e-01  0.00000000e+00  6.09352167e-02  0.00000000e+00\n",
      "  -3.46944695e-18  0.00000000e+00  0.00000000e+00  0.00000000e+00\n",
      "  -3.46944695e-18 -3.46944695e-18  0.00000000e+00  0.00000000e+00\n",
      "  -1.73472348e-18  0.00000000e+00  0.00000000e+00  8.65176296e-02\n",
      "   1.78696785e-01 -3.46944695e-18  7.92793255e-02  0.00000000e+00\n",
      "  -3.46944695e-18  0.00000000e+00 -3.46944695e-18  6.09352167e-02\n",
      "   6.09352167e-02  6.09352167e-02 -3.46944695e-18  0.00000000e+00\n",
      "   0.00000000e+00 -6.93889390e-18  5.35629882e-02 -3.46944695e-18\n",
      "   6.09352167e-02  0.00000000e+00  6.09352167e-02  0.00000000e+00\n",
      "   0.00000000e+00  0.00000000e+00 -1.73472348e-18  0.00000000e+00\n",
      "  -3.46944695e-18  6.09352167e-02  7.99472259e-02  7.99472259e-02\n",
      "  -1.73472348e-18  1.03340172e-01  9.99518335e-02]\n",
      " [ 2.79163222e-01  3.46944695e-18  3.46944695e-18  3.46944695e-18\n",
      "   0.00000000e+00  3.46944695e-18  1.60950305e-01  3.46944695e-18\n",
      "   3.46944695e-18  3.46944695e-18  0.00000000e+00  0.00000000e+00\n",
      "   0.00000000e+00  6.93889390e-18  3.46944695e-18  0.00000000e+00\n",
      "   3.46944695e-18  0.00000000e+00  1.73472348e-18  0.00000000e+00\n",
      "   3.46944695e-18  0.00000000e+00  0.00000000e+00  3.46944695e-18\n",
      "   3.46944695e-18  1.73472348e-18  3.46944695e-18  2.06369920e-01\n",
      "   0.00000000e+00  3.46944695e-18  0.00000000e+00  0.00000000e+00\n",
      "   3.46944695e-18  0.00000000e+00  1.41477782e-01  0.00000000e+00\n",
      "   3.46944695e-18  3.46944695e-18  0.00000000e+00  1.73472348e-18\n",
      "   0.00000000e+00  0.00000000e+00  0.00000000e+00  0.00000000e+00\n",
      "   3.46944695e-18  0.00000000e+00  4.06825029e-01  1.27661807e-01\n",
      "   3.46944695e-18  3.46944695e-18  0.00000000e+00  4.06825029e-01\n",
      "   1.73472348e-18  0.00000000e+00  0.00000000e+00  3.46944695e-18\n",
      "   6.93889390e-18  3.46944695e-18  0.00000000e+00  1.38777878e-17\n",
      "   3.46944695e-18  0.00000000e+00  3.46944695e-18  0.00000000e+00\n",
      "   0.00000000e+00  0.00000000e+00  3.46944695e-18  1.54863255e-01\n",
      "   4.06825029e-01  6.93889390e-18  1.36127172e-01  3.46944695e-18\n",
      "   0.00000000e+00  0.00000000e+00  0.00000000e+00  0.00000000e+00\n",
      "   0.00000000e+00  0.00000000e+00  1.73472348e-18  0.00000000e+00\n",
      "   3.46944695e-18  0.00000000e+00  0.00000000e+00  0.00000000e+00\n",
      "   1.73472348e-18  3.46944695e-18  0.00000000e+00]\n",
      " [ 1.75097760e-01  0.00000000e+00  2.20755436e-01  0.00000000e+00\n",
      "   0.00000000e+00  0.00000000e+00  0.00000000e+00  0.00000000e+00\n",
      "   0.00000000e+00  2.12661302e-01  0.00000000e+00  0.00000000e+00\n",
      "   0.00000000e+00  0.00000000e+00  0.00000000e+00  0.00000000e+00\n",
      "   0.00000000e+00  0.00000000e+00  0.00000000e+00  0.00000000e+00\n",
      "   0.00000000e+00  0.00000000e+00  0.00000000e+00  0.00000000e+00\n",
      "   0.00000000e+00  0.00000000e+00  2.20755436e-01  1.29440083e-01\n",
      "   0.00000000e+00  0.00000000e+00  0.00000000e+00  0.00000000e+00\n",
      "   0.00000000e+00  0.00000000e+00  0.00000000e+00  0.00000000e+00\n",
      "   0.00000000e+00  2.20755436e-01  0.00000000e+00  0.00000000e+00\n",
      "   0.00000000e+00  0.00000000e+00  0.00000000e+00  0.00000000e+00\n",
      "   0.00000000e+00  0.00000000e+00  0.00000000e+00  0.00000000e+00\n",
      "   0.00000000e+00  0.00000000e+00  0.00000000e+00  0.00000000e+00\n",
      "   0.00000000e+00  0.00000000e+00  0.00000000e+00  0.00000000e+00\n",
      "   0.00000000e+00  2.12661302e-01  0.00000000e+00  0.00000000e+00\n",
      "   0.00000000e+00  0.00000000e+00  0.00000000e+00  0.00000000e+00\n",
      "   0.00000000e+00  0.00000000e+00  2.12661302e-01  0.00000000e+00\n",
      "   0.00000000e+00  1.75097760e-01  0.00000000e+00  2.12661302e-01\n",
      "   0.00000000e+00  0.00000000e+00  0.00000000e+00  0.00000000e+00\n",
      "   0.00000000e+00  3.14917403e-01  0.00000000e+00  0.00000000e+00\n",
      "   2.12661302e-01  0.00000000e+00  0.00000000e+00  0.00000000e+00\n",
      "   0.00000000e+00  0.00000000e+00  0.00000000e+00]\n",
      " [ 6.93889390e-18  3.46944695e-18  3.46944695e-18  3.46944695e-18\n",
      "   1.23828284e-01  1.31171918e-01  3.46944695e-18  1.31171918e-01\n",
      "   3.46944695e-18  3.46944695e-18  0.00000000e+00  0.00000000e+00\n",
      "   0.00000000e+00  3.05023671e-01  1.31171918e-01  0.00000000e+00\n",
      "   3.46944695e-18  0.00000000e+00  1.73472348e-18  0.00000000e+00\n",
      "   3.46944695e-18  0.00000000e+00  2.28443053e-01  3.46944695e-18\n",
      "   3.46944695e-18  1.73472348e-18  3.46944695e-18  1.38777878e-17\n",
      "   0.00000000e+00  3.46944695e-18  0.00000000e+00  0.00000000e+00\n",
      "   3.46944695e-18  0.00000000e+00  0.00000000e+00  0.00000000e+00\n",
      "   3.46944695e-18  3.46944695e-18  1.14221527e-01  1.73472348e-18\n",
      "   0.00000000e+00  1.14221527e-01  0.00000000e+00  1.56117171e-01\n",
      "   1.31171918e-01  1.56117171e-01  0.00000000e+00  0.00000000e+00\n",
      "   3.46944695e-18  3.46944695e-18  0.00000000e+00  0.00000000e+00\n",
      "   1.73472348e-18  0.00000000e+00  0.00000000e+00  3.46944695e-18\n",
      "   6.93889390e-18  3.46944695e-18  0.00000000e+00  2.08742131e-01\n",
      "   3.46944695e-18  0.00000000e+00  3.46944695e-18  0.00000000e+00\n",
      "   0.00000000e+00  0.00000000e+00  3.46944695e-18  0.00000000e+00\n",
      "   0.00000000e+00  1.04042325e-01  6.93889390e-18  3.46944695e-18\n",
      "   0.00000000e+00  0.00000000e+00  0.00000000e+00  2.52531506e-01\n",
      "   0.00000000e+00  9.53085471e-02  1.73472348e-18  0.00000000e+00\n",
      "   3.46944695e-18  0.00000000e+00  0.00000000e+00  0.00000000e+00\n",
      "   1.73472348e-18  3.46944695e-18  0.00000000e+00]]\n",
      "labels [1, 4, 4, 5, 0, 6, 3, 4, 2, 0, 1, 3, 5, 3, 3, 3, 2, 6, 6, 2]\n",
      "intertia: 10.577928048863109\n",
      "Top words per cluster:\n",
      "Cluster: 0 texts: 2\n",
      "\tcenter\n",
      "\tconsent\n",
      "\tbusiness\n",
      "\tissue\n",
      "\telements\n",
      "\tduplicate\n",
      "\tpayroll\n",
      "\tsls\n",
      "\tdata\n",
      "\tsage\n",
      "Cluster: 1 texts: 2\n",
      "\tdeleted\n",
      "\t365\n",
      "\toffice\n",
      "\tsync\n",
      "\ttenants\n",
      "\tca\n",
      "\tmissing\n",
      "\tmicrosoft\n",
      "\tmaintenancesku\n",
      "\ttenant\n",
      "Cluster: 2 texts: 3\n",
      "\to365\n",
      "\tinvalid\n",
      "\tloguseraccess\n",
      "\temail\n",
      "\taddress\n",
      "\t200c\n",
      "\t50c\n",
      "\torder\n",
      "\tplaced\n",
      "\tcreate\n",
      "Cluster: 3 texts: 5\n",
      "\tms\n",
      "\tcustomer\n",
      "\taddress\n",
      "\tfailed\n",
      "\tvalidated\n",
      "\t020202020\n",
      "\tvalidation\n",
      "\tentitlement\n",
      "\tmissng\n",
      "\teffective\n",
      "Cluster: 4 texts: 3\n",
      "\tmanual\n",
      "\trequires\n",
      "\tintervention\n",
      "\t0123456789\n",
      "\tcustomer\n",
      "\t4007045975\n",
      "\trequest\n",
      "\temail\n",
      "\tservice\n",
      "\tinvalid\n",
      "Cluster: 5 texts: 2\n",
      "\ttenant\n",
      "\terp\n",
      "\t100\n",
      "\tcreated\n",
      "\tneeds\n",
      "\ttrade\n",
      "\treinstated\n",
      "\t63823004\n",
      "\tservices\n",
      "\t0123456789\n",
      "Cluster: 6 texts: 3\n",
      "\taccount\n",
      "\tsuspended\n",
      "\tcommerce\n",
      "\toffice\n",
      "\tinc0732959\n",
      "\tgone\n",
      "\tactivate\n",
      "\t50\n",
      "\t4001542273\n",
      "\tinc0660437\n",
      "\n",
      "\n",
      "Prediction\n",
      "Data Service Deployment not processing\n",
      "Cluster: 0 texts: 3.0\n",
      "\tcenter\n",
      "\tconsent\n",
      "\tbusiness\n",
      "\tissue\n",
      "\telements\n",
      "\tduplicate\n",
      "\tpayroll\n",
      "\tsls\n",
      "\tdata\n",
      "\tsage\n"
     ]
    },
    {
     "name": "stderr",
     "output_type": "stream",
     "text": [
      "C:\\Users\\stotlyakov\\Anaconda3\\lib\\site-packages\\sklearn\\cluster\\_kmeans.py:938: FutureWarning:\n",
      "\n",
      "'n_jobs' was deprecated in version 0.23 and will be removed in 0.25.\n",
      "\n"
     ]
    }
   ],
   "source": [
    "\n",
    "texts = data\n",
    "\n",
    "# vectorization of the texts\n",
    "vectorizer = TfidfVectorizer(stop_words=\"english\")\n",
    "X = vectorizer.fit_transform(texts).todense()\n",
    "# used words (axis in our multi-dimensional space)\n",
    "words = vectorizer.get_feature_names()\n",
    "print(\"words\", words)\n",
    "\n",
    "\n",
    "n_clusters=7\n",
    "number_of_seeds_to_try=10\n",
    "max_iter = 300\n",
    "number_of_process=2 # seads are distributed\n",
    "model = KMeans(n_clusters=n_clusters, max_iter=max_iter, n_init=number_of_seeds_to_try, n_jobs=number_of_process).fit(X)\n",
    "\n",
    "from sklearn.decomposition import PCA\n",
    "y_kmeans = model.predict(X)\n",
    "pca = PCA(n_components=2).fit(X)\n",
    "data2D = pca.transform(X)\n",
    "\n",
    "\n",
    "labels = model.labels_.tolist()\n",
    "# indices of preferible words in each cluster\n",
    "ordered_words = model.cluster_centers_.argsort()[:, ::-1]\n",
    "\n",
    "print(\"centers:\", model.cluster_centers_)\n",
    "print(\"labels\", labels)\n",
    "print(\"intertia:\", model.inertia_)\n",
    "\n",
    "texts_per_cluster = numpy.zeros(n_clusters)\n",
    "for i_cluster in range(n_clusters):\n",
    "    for label in labels:\n",
    "        if label==i_cluster:\n",
    "            texts_per_cluster[i_cluster] +=1 \n",
    "\n",
    "print(\"Top words per cluster:\")\n",
    "for i_cluster in range(n_clusters):\n",
    "    print(\"Cluster:\", i_cluster, \"texts:\", int(texts_per_cluster[i_cluster])),\n",
    "    for term in ordered_words[i_cluster, :10]:\n",
    "        print(\"\\t\"+words[term])\n",
    "\n",
    "print(\"\\n\")\n",
    "print(\"Prediction\")\n",
    "\n",
    "text_to_predict = \"Data Service Deployment not processing\"\n",
    "Y = vectorizer.transform([text_to_predict])\n",
    "predicted_cluster = model.predict(Y)[0]\n",
    "texts_per_cluster[predicted_cluster]+=1\n",
    "\n",
    "print(text_to_predict)\n",
    "print(\"Cluster:\", predicted_cluster, \"texts:\", texts_per_cluster[predicted_cluster]),\n",
    "for term in ordered_words[predicted_cluster, :10]:\n",
    "    print(\"\\t\"+words[term])"
   ]
  },
  {
   "cell_type": "code",
   "execution_count": 28,
   "metadata": {},
   "outputs": [
    {
     "data": {
      "text/plain": [
       "<matplotlib.collections.PathCollection at 0x1fd399a97c0>"
      ]
     },
     "execution_count": 28,
     "metadata": {},
     "output_type": "execute_result"
    },
    {
     "data": {
      "image/png": "[encoded data removed]",
      "text/plain": [
       "<Figure size 432x288 with 1 Axes>"
      ]
     },
     "metadata": {
      "needs_background": "light"
     },
     "output_type": "display_data"
    }
   ],
   "source": [
    "import matplotlib.pyplot as plt\n",
    "plt.scatter(data2D[:,0], data2D[:,1], c=labels)\n"
   ]
  },
  {
   "cell_type": "code",
   "execution_count": 29,
   "metadata": {},
   "outputs": [
    {
     "data": {
      "application/vnd.plotly.v1+json": {
       "config": {
        "plotlyServerURL": "https://plot.ly"
       },
       "data": [
        {
         "type": "bar",
         "x": [
          86,
          85,
          84,
          83,
          82,
          81,
          80,
          79,
          78,
          77,
          76,
          75,
          74,
          73,
          72,
          71,
          70,
          69,
          68,
          67
         ],
         "y": [
          "validation",
          "validated",
          "useraccesslogsvc",
          "uk",
          "transfer",
          "traffic",
          "trade",
          "tenants",
          "tenantid",
          "tenant",
          "sync",
          "suspended",
          "suddenly",
          "sls",
          "signon",
          "services",
          "service",
          "sage",
          "requires",
          "request"
         ]
        }
       ],
       "layout": {
        "template": {
         "data": {
          "bar": [
           {
            "error_x": {
             "color": "#2a3f5f"
            },
            "error_y": {
             "color": "#2a3f5f"
            },
            "marker": {
             "line": {
              "color": "#E5ECF6",
              "width": 0.5
             }
            },
            "type": "bar"
           }
          ],
          "barpolar": [
           {
            "marker": {
             "line": {
              "color": "#E5ECF6",
              "width": 0.5
             }
            },
            "type": "barpolar"
           }
          ],
          "carpet": [
           {
            "aaxis": {
             "endlinecolor": "#2a3f5f",
             "gridcolor": "white",
             "linecolor": "white",
             "minorgridcolor": "white",
             "startlinecolor": "#2a3f5f"
            },
            "baxis": {
             "endlinecolor": "#2a3f5f",
             "gridcolor": "white",
             "linecolor": "white",
             "minorgridcolor": "white",
             "startlinecolor": "#2a3f5f"
            },
            "type": "carpet"
           }
          ],
          "choropleth": [
           {
            "colorbar": {
             "outlinewidth": 0,
             "ticks": ""
            },
            "type": "choropleth"
           }
          ],
          "contour": [
           {
            "colorbar": {
             "outlinewidth": 0,
             "ticks": ""
            },
            "colorscale": [
             [
              0,
              "#0d0887"
             ],
             [
              0.1111111111111111,
              "#46039f"
             ],
             [
              0.2222222222222222,
              "#7201a8"
             ],
             [
              0.3333333333333333,
              "#9c179e"
             ],
             [
              0.4444444444444444,
              "#bd3786"
             ],
             [
              0.5555555555555556,
              "#d8576b"
             ],
             [
              0.6666666666666666,
              "#ed7953"
             ],
             [
              0.7777777777777778,
              "#fb9f3a"
             ],
             [
              0.8888888888888888,
              "#fdca26"
             ],
             [
              1,
              "#f0f921"
             ]
            ],
            "type": "contour"
           }
          ],
          "contourcarpet": [
           {
            "colorbar": {
             "outlinewidth": 0,
             "ticks": ""
            },
            "type": "contourcarpet"
           }
          ],
          "heatmap": [
           {
            "colorbar": {
             "outlinewidth": 0,
             "ticks": ""
            },
            "colorscale": [
             [
              0,
              "#0d0887"
             ],
             [
              0.1111111111111111,
              "#46039f"
             ],
             [
              0.2222222222222222,
              "#7201a8"
             ],
             [
              0.3333333333333333,
              "#9c179e"
             ],
             [
              0.4444444444444444,
              "#bd3786"
             ],
             [
              0.5555555555555556,
              "#d8576b"
             ],
             [
              0.6666666666666666,
              "#ed7953"
             ],
             [
              0.7777777777777778,
              "#fb9f3a"
             ],
             [
              0.8888888888888888,
              "#fdca26"
             ],
             [
              1,
              "#f0f921"
             ]
            ],
            "type": "heatmap"
           }
          ],
          "heatmapgl": [
           {
            "colorbar": {
             "outlinewidth": 0,
             "ticks": ""
            },
            "colorscale": [
             [
              0,
              "#0d0887"
             ],
             [
              0.1111111111111111,
              "#46039f"
             ],
             [
              0.2222222222222222,
              "#7201a8"
             ],
             [
              0.3333333333333333,
              "#9c179e"
             ],
             [
              0.4444444444444444,
              "#bd3786"
             ],
             [
              0.5555555555555556,
              "#d8576b"
             ],
             [
              0.6666666666666666,
              "#ed7953"
             ],
             [
              0.7777777777777778,
              "#fb9f3a"
             ],
             [
              0.8888888888888888,
              "#fdca26"
             ],
             [
              1,
              "#f0f921"
             ]
            ],
            "type": "heatmapgl"
           }
          ],
          "histogram": [
           {
            "marker": {
             "colorbar": {
              "outlinewidth": 0,
              "ticks": ""
             }
            },
            "type": "histogram"
           }
          ],
          "histogram2d": [
           {
            "colorbar": {
             "outlinewidth": 0,
             "ticks": ""
            },
            "colorscale": [
             [
              0,
              "#0d0887"
             ],
             [
              0.1111111111111111,
              "#46039f"
             ],
             [
              0.2222222222222222,
              "#7201a8"
             ],
             [
              0.3333333333333333,
              "#9c179e"
             ],
             [
              0.4444444444444444,
              "#bd3786"
             ],
             [
              0.5555555555555556,
              "#d8576b"
             ],
             [
              0.6666666666666666,
              "#ed7953"
             ],
             [
              0.7777777777777778,
              "#fb9f3a"
             ],
             [
              0.8888888888888888,
              "#fdca26"
             ],
             [
              1,
              "#f0f921"
             ]
            ],
            "type": "histogram2d"
           }
          ],
          "histogram2dcontour": [
           {
            "colorbar": {
             "outlinewidth": 0,
             "ticks": ""
            },
            "colorscale": [
             [
              0,
              "#0d0887"
             ],
             [
              0.1111111111111111,
              "#46039f"
             ],
             [
              0.2222222222222222,
              "#7201a8"
             ],
             [
              0.3333333333333333,
              "#9c179e"
             ],
             [
              0.4444444444444444,
              "#bd3786"
             ],
             [
              0.5555555555555556,
              "#d8576b"
             ],
             [
              0.6666666666666666,
              "#ed7953"
             ],
             [
              0.7777777777777778,
              "#fb9f3a"
             ],
             [
              0.8888888888888888,
              "#fdca26"
             ],
             [
              1,
              "#f0f921"
             ]
            ],
            "type": "histogram2dcontour"
           }
          ],
          "mesh3d": [
           {
            "colorbar": {
             "outlinewidth": 0,
             "ticks": ""
            },
            "type": "mesh3d"
           }
          ],
          "parcoords": [
           {
            "line": {
             "colorbar": {
              "outlinewidth": 0,
              "ticks": ""
             }
            },
            "type": "parcoords"
           }
          ],
          "pie": [
           {
            "automargin": true,
            "type": "pie"
           }
          ],
          "scatter": [
           {
            "marker": {
             "colorbar": {
              "outlinewidth": 0,
              "ticks": ""
             }
            },
            "type": "scatter"
           }
          ],
          "scatter3d": [
           {
            "line": {
             "colorbar": {
              "outlinewidth": 0,
              "ticks": ""
             }
            },
            "marker": {
             "colorbar": {
              "outlinewidth": 0,
              "ticks": ""
             }
            },
            "type": "scatter3d"
           }
          ],
          "scattercarpet": [
           {
            "marker": {
             "colorbar": {
              "outlinewidth": 0,
              "ticks": ""
             }
            },
            "type": "scattercarpet"
           }
          ],
          "scattergeo": [
           {
            "marker": {
             "colorbar": {
              "outlinewidth": 0,
              "ticks": ""
             }
            },
            "type": "scattergeo"
           }
          ],
          "scattergl": [
           {
            "marker": {
             "colorbar": {
              "outlinewidth": 0,
              "ticks": ""
             }
            },
            "type": "scattergl"
           }
          ],
          "scattermapbox": [
           {
            "marker": {
             "colorbar": {
              "outlinewidth": 0,
              "ticks": ""
             }
            },
            "type": "scattermapbox"
           }
          ],
          "scatterpolar": [
           {
            "marker": {
             "colorbar": {
              "outlinewidth": 0,
              "ticks": ""
             }
            },
            "type": "scatterpolar"
           }
          ],
          "scatterpolargl": [
           {
            "marker": {
             "colorbar": {
              "outlinewidth": 0,
              "ticks": ""
             }
            },
            "type": "scatterpolargl"
           }
          ],
          "scatterternary": [
           {
            "marker": {
             "colorbar": {
              "outlinewidth": 0,
              "ticks": ""
             }
            },
            "type": "scatterternary"
           }
          ],
          "surface": [
           {
            "colorbar": {
             "outlinewidth": 0,
             "ticks": ""
            },
            "colorscale": [
             [
              0,
              "#0d0887"
             ],
             [
              0.1111111111111111,
              "#46039f"
             ],
             [
              0.2222222222222222,
              "#7201a8"
             ],
             [
              0.3333333333333333,
              "#9c179e"
             ],
             [
              0.4444444444444444,
              "#bd3786"
             ],
             [
              0.5555555555555556,
              "#d8576b"
             ],
             [
              0.6666666666666666,
              "#ed7953"
             ],
             [
              0.7777777777777778,
              "#fb9f3a"
             ],
             [
              0.8888888888888888,
              "#fdca26"
             ],
             [
              1,
              "#f0f921"
             ]
            ],
            "type": "surface"
           }
          ],
          "table": [
           {
            "cells": {
             "fill": {
              "color": "#EBF0F8"
             },
             "line": {
              "color": "white"
             }
            },
            "header": {
             "fill": {
              "color": "#C8D4E3"
             },
             "line": {
              "color": "white"
             }
            },
            "type": "table"
           }
          ]
         },
         "layout": {
          "annotationdefaults": {
           "arrowcolor": "#2a3f5f",
           "arrowhead": 0,
           "arrowwidth": 1
          },
          "coloraxis": {
           "colorbar": {
            "outlinewidth": 0,
            "ticks": ""
           }
          },
          "colorscale": {
           "diverging": [
            [
             0,
             "#8e0152"
            ],
            [
             0.1,
             "#c51b7d"
            ],
            [
             0.2,
             "#de77ae"
            ],
            [
             0.3,
             "#f1b6da"
            ],
            [
             0.4,
             "#fde0ef"
            ],
            [
             0.5,
             "#f7f7f7"
            ],
            [
             0.6,
             "#e6f5d0"
            ],
            [
             0.7,
             "#b8e186"
            ],
            [
             0.8,
             "#7fbc41"
            ],
            [
             0.9,
             "#4d9221"
            ],
            [
             1,
             "#276419"
            ]
           ],
           "sequential": [
            [
             0,
             "#0d0887"
            ],
            [
             0.1111111111111111,
             "#46039f"
            ],
            [
             0.2222222222222222,
             "#7201a8"
            ],
            [
             0.3333333333333333,
             "#9c179e"
            ],
            [
             0.4444444444444444,
             "#bd3786"
            ],
            [
             0.5555555555555556,
             "#d8576b"
            ],
            [
             0.6666666666666666,
             "#ed7953"
            ],
            [
             0.7777777777777778,
             "#fb9f3a"
            ],
            [
             0.8888888888888888,
             "#fdca26"
            ],
            [
             1,
             "#f0f921"
            ]
           ],
           "sequentialminus": [
            [
             0,
             "#0d0887"
            ],
            [
             0.1111111111111111,
             "#46039f"
            ],
            [
             0.2222222222222222,
             "#7201a8"
            ],
            [
             0.3333333333333333,
             "#9c179e"
            ],
            [
             0.4444444444444444,
             "#bd3786"
            ],
            [
             0.5555555555555556,
             "#d8576b"
            ],
            [
             0.6666666666666666,
             "#ed7953"
            ],
            [
             0.7777777777777778,
             "#fb9f3a"
            ],
            [
             0.8888888888888888,
             "#fdca26"
            ],
            [
             1,
             "#f0f921"
            ]
           ]
          },
          "colorway": [
           "#636efa",
           "#EF553B",
           "#00cc96",
           "#ab63fa",
           "#FFA15A",
           "#19d3f3",
           "#FF6692",
           "#B6E880",
           "#FF97FF",
           "#FECB52"
          ],
          "font": {
           "color": "#2a3f5f"
          },
          "geo": {
           "bgcolor": "white",
           "lakecolor": "white",
           "landcolor": "#E5ECF6",
           "showlakes": true,
           "showland": true,
           "subunitcolor": "white"
          },
          "hoverlabel": {
           "align": "left"
          },
          "hovermode": "closest",
          "mapbox": {
           "style": "light"
          },
          "paper_bgcolor": "white",
          "plot_bgcolor": "#E5ECF6",
          "polar": {
           "angularaxis": {
            "gridcolor": "white",
            "linecolor": "white",
            "ticks": ""
           },
           "bgcolor": "#E5ECF6",
           "radialaxis": {
            "gridcolor": "white",
            "linecolor": "white",
            "ticks": ""
           }
          },
          "scene": {
           "xaxis": {
            "backgroundcolor": "#E5ECF6",
            "gridcolor": "white",
            "gridwidth": 2,
            "linecolor": "white",
            "showbackground": true,
            "ticks": "",
            "zerolinecolor": "white"
           },
           "yaxis": {
            "backgroundcolor": "#E5ECF6",
            "gridcolor": "white",
            "gridwidth": 2,
            "linecolor": "white",
            "showbackground": true,
            "ticks": "",
            "zerolinecolor": "white"
           },
           "zaxis": {
            "backgroundcolor": "#E5ECF6",
            "gridcolor": "white",
            "gridwidth": 2,
            "linecolor": "white",
            "showbackground": true,
            "ticks": "",
            "zerolinecolor": "white"
           }
          },
          "shapedefaults": {
           "line": {
            "color": "#2a3f5f"
           }
          },
          "ternary": {
           "aaxis": {
            "gridcolor": "white",
            "linecolor": "white",
            "ticks": ""
           },
           "baxis": {
            "gridcolor": "white",
            "linecolor": "white",
            "ticks": ""
           },
           "bgcolor": "#E5ECF6",
           "caxis": {
            "gridcolor": "white",
            "linecolor": "white",
            "ticks": ""
           }
          },
          "title": {
           "x": 0.05
          },
          "xaxis": {
           "automargin": true,
           "gridcolor": "white",
           "linecolor": "white",
           "ticks": "",
           "title": {
            "standoff": 15
           },
           "zerolinecolor": "white",
           "zerolinewidth": 2
          },
          "yaxis": {
           "automargin": true,
           "gridcolor": "white",
           "linecolor": "white",
           "ticks": "",
           "title": {
            "standoff": 15
           },
           "zerolinecolor": "white",
           "zerolinewidth": 2
          }
         }
        },
        "title": {
         "text": "Show the most common words in the support ticket issue description"
        }
       }
      },
      "text/html": [
       "<div>\n",
       "        \n",
       "        \n",
       "            <div id=\"70f54aa9-1928-439d-9d84-38b969a5cfda\" class=\"plotly-graph-div\" style=\"height:525px; width:100%;\"></div>\n",
       "            <script type=\"text/javascript\">\n",
       "                require([\"plotly\"], function(Plotly) {\n",
       "                    window.PLOTLYENV=window.PLOTLYENV || {};\n",
       "                    \n",
       "                if (document.getElementById(\"70f54aa9-1928-439d-9d84-38b969a5cfda\")) {\n",
       "                    Plotly.newPlot(\n",
       "                        '70f54aa9-1928-439d-9d84-38b969a5cfda',\n",
       "                        [{\"type\": \"bar\", \"x\": [86, 85, 84, 83, 82, 81, 80, 79, 78, 77, 76, 75, 74, 73, 72, 71, 70, 69, 68, 67], \"y\": [\"validation\", \"validated\", \"useraccesslogsvc\", \"uk\", \"transfer\", \"traffic\", \"trade\", \"tenants\", \"tenantid\", \"tenant\", \"sync\", \"suspended\", \"suddenly\", \"sls\", \"signon\", \"services\", \"service\", \"sage\", \"requires\", \"request\"]}],\n",
       "                        {\"template\": {\"data\": {\"bar\": [{\"error_x\": {\"color\": \"#2a3f5f\"}, \"error_y\": {\"color\": \"#2a3f5f\"}, \"marker\": {\"line\": {\"color\": \"#E5ECF6\", \"width\": 0.5}}, \"type\": \"bar\"}], \"barpolar\": [{\"marker\": {\"line\": {\"color\": \"#E5ECF6\", \"width\": 0.5}}, \"type\": \"barpolar\"}], \"carpet\": [{\"aaxis\": {\"endlinecolor\": \"#2a3f5f\", \"gridcolor\": \"white\", \"linecolor\": \"white\", \"minorgridcolor\": \"white\", \"startlinecolor\": \"#2a3f5f\"}, \"baxis\": {\"endlinecolor\": \"#2a3f5f\", \"gridcolor\": \"white\", \"linecolor\": \"white\", \"minorgridcolor\": \"white\", \"startlinecolor\": \"#2a3f5f\"}, \"type\": \"carpet\"}], \"choropleth\": [{\"colorbar\": {\"outlinewidth\": 0, \"ticks\": \"\"}, \"type\": \"choropleth\"}], \"contour\": [{\"colorbar\": {\"outlinewidth\": 0, \"ticks\": \"\"}, \"colorscale\": [[0.0, \"#0d0887\"], [0.1111111111111111, \"#46039f\"], [0.2222222222222222, \"#7201a8\"], [0.3333333333333333, \"#9c179e\"], [0.4444444444444444, \"#bd3786\"], [0.5555555555555556, \"#d8576b\"], [0.6666666666666666, \"#ed7953\"], [0.7777777777777778, \"#fb9f3a\"], [0.8888888888888888, \"#fdca26\"], [1.0, \"#f0f921\"]], \"type\": \"contour\"}], \"contourcarpet\": [{\"colorbar\": {\"outlinewidth\": 0, \"ticks\": \"\"}, \"type\": \"contourcarpet\"}], \"heatmap\": [{\"colorbar\": {\"outlinewidth\": 0, \"ticks\": \"\"}, \"colorscale\": [[0.0, \"#0d0887\"], [0.1111111111111111, \"#46039f\"], [0.2222222222222222, \"#7201a8\"], [0.3333333333333333, \"#9c179e\"], [0.4444444444444444, \"#bd3786\"], [0.5555555555555556, \"#d8576b\"], [0.6666666666666666, \"#ed7953\"], [0.7777777777777778, \"#fb9f3a\"], [0.8888888888888888, \"#fdca26\"], [1.0, \"#f0f921\"]], \"type\": \"heatmap\"}], \"heatmapgl\": [{\"colorbar\": {\"outlinewidth\": 0, \"ticks\": \"\"}, \"colorscale\": [[0.0, \"#0d0887\"], [0.1111111111111111, \"#46039f\"], [0.2222222222222222, \"#7201a8\"], [0.3333333333333333, \"#9c179e\"], [0.4444444444444444, \"#bd3786\"], [0.5555555555555556, \"#d8576b\"], [0.6666666666666666, \"#ed7953\"], [0.7777777777777778, \"#fb9f3a\"], [0.8888888888888888, \"#fdca26\"], [1.0, \"#f0f921\"]], \"type\": \"heatmapgl\"}], \"histogram\": [{\"marker\": {\"colorbar\": {\"outlinewidth\": 0, \"ticks\": \"\"}}, \"type\": \"histogram\"}], \"histogram2d\": [{\"colorbar\": {\"outlinewidth\": 0, \"ticks\": \"\"}, \"colorscale\": [[0.0, \"#0d0887\"], [0.1111111111111111, \"#46039f\"], [0.2222222222222222, \"#7201a8\"], [0.3333333333333333, \"#9c179e\"], [0.4444444444444444, \"#bd3786\"], [0.5555555555555556, \"#d8576b\"], [0.6666666666666666, \"#ed7953\"], [0.7777777777777778, \"#fb9f3a\"], [0.8888888888888888, \"#fdca26\"], [1.0, \"#f0f921\"]], \"type\": \"histogram2d\"}], \"histogram2dcontour\": [{\"colorbar\": {\"outlinewidth\": 0, \"ticks\": \"\"}, \"colorscale\": [[0.0, \"#0d0887\"], [0.1111111111111111, \"#46039f\"], [0.2222222222222222, \"#7201a8\"], [0.3333333333333333, \"#9c179e\"], [0.4444444444444444, \"#bd3786\"], [0.5555555555555556, \"#d8576b\"], [0.6666666666666666, \"#ed7953\"], [0.7777777777777778, \"#fb9f3a\"], [0.8888888888888888, \"#fdca26\"], [1.0, \"#f0f921\"]], \"type\": \"histogram2dcontour\"}], \"mesh3d\": [{\"colorbar\": {\"outlinewidth\": 0, \"ticks\": \"\"}, \"type\": \"mesh3d\"}], \"parcoords\": [{\"line\": {\"colorbar\": {\"outlinewidth\": 0, \"ticks\": \"\"}}, \"type\": \"parcoords\"}], \"pie\": [{\"automargin\": true, \"type\": \"pie\"}], \"scatter\": [{\"marker\": {\"colorbar\": {\"outlinewidth\": 0, \"ticks\": \"\"}}, \"type\": \"scatter\"}], \"scatter3d\": [{\"line\": {\"colorbar\": {\"outlinewidth\": 0, \"ticks\": \"\"}}, \"marker\": {\"colorbar\": {\"outlinewidth\": 0, \"ticks\": \"\"}}, \"type\": \"scatter3d\"}], \"scattercarpet\": [{\"marker\": {\"colorbar\": {\"outlinewidth\": 0, \"ticks\": \"\"}}, \"type\": \"scattercarpet\"}], \"scattergeo\": [{\"marker\": {\"colorbar\": {\"outlinewidth\": 0, \"ticks\": \"\"}}, \"type\": \"scattergeo\"}], \"scattergl\": [{\"marker\": {\"colorbar\": {\"outlinewidth\": 0, \"ticks\": \"\"}}, \"type\": \"scattergl\"}], \"scattermapbox\": [{\"marker\": {\"colorbar\": {\"outlinewidth\": 0, \"ticks\": \"\"}}, \"type\": \"scattermapbox\"}], \"scatterpolar\": [{\"marker\": {\"colorbar\": {\"outlinewidth\": 0, \"ticks\": \"\"}}, \"type\": \"scatterpolar\"}], \"scatterpolargl\": [{\"marker\": {\"colorbar\": {\"outlinewidth\": 0, \"ticks\": \"\"}}, \"type\": \"scatterpolargl\"}], \"scatterternary\": [{\"marker\": {\"colorbar\": {\"outlinewidth\": 0, \"ticks\": \"\"}}, \"type\": \"scatterternary\"}], \"surface\": [{\"colorbar\": {\"outlinewidth\": 0, \"ticks\": \"\"}, \"colorscale\": [[0.0, \"#0d0887\"], [0.1111111111111111, \"#46039f\"], [0.2222222222222222, \"#7201a8\"], [0.3333333333333333, \"#9c179e\"], [0.4444444444444444, \"#bd3786\"], [0.5555555555555556, \"#d8576b\"], [0.6666666666666666, \"#ed7953\"], [0.7777777777777778, \"#fb9f3a\"], [0.8888888888888888, \"#fdca26\"], [1.0, \"#f0f921\"]], \"type\": \"surface\"}], \"table\": [{\"cells\": {\"fill\": {\"color\": \"#EBF0F8\"}, \"line\": {\"color\": \"white\"}}, \"header\": {\"fill\": {\"color\": \"#C8D4E3\"}, \"line\": {\"color\": \"white\"}}, \"type\": \"table\"}]}, \"layout\": {\"annotationdefaults\": {\"arrowcolor\": \"#2a3f5f\", \"arrowhead\": 0, \"arrowwidth\": 1}, \"coloraxis\": {\"colorbar\": {\"outlinewidth\": 0, \"ticks\": \"\"}}, \"colorscale\": {\"diverging\": [[0, \"#8e0152\"], [0.1, \"#c51b7d\"], [0.2, \"#de77ae\"], [0.3, \"#f1b6da\"], [0.4, \"#fde0ef\"], [0.5, \"#f7f7f7\"], [0.6, \"#e6f5d0\"], [0.7, \"#b8e186\"], [0.8, \"#7fbc41\"], [0.9, \"#4d9221\"], [1, \"#276419\"]], \"sequential\": [[0.0, \"#0d0887\"], [0.1111111111111111, \"#46039f\"], [0.2222222222222222, \"#7201a8\"], [0.3333333333333333, \"#9c179e\"], [0.4444444444444444, \"#bd3786\"], [0.5555555555555556, \"#d8576b\"], [0.6666666666666666, \"#ed7953\"], [0.7777777777777778, \"#fb9f3a\"], [0.8888888888888888, \"#fdca26\"], [1.0, \"#f0f921\"]], \"sequentialminus\": [[0.0, \"#0d0887\"], [0.1111111111111111, \"#46039f\"], [0.2222222222222222, \"#7201a8\"], [0.3333333333333333, \"#9c179e\"], [0.4444444444444444, \"#bd3786\"], [0.5555555555555556, \"#d8576b\"], [0.6666666666666666, \"#ed7953\"], [0.7777777777777778, \"#fb9f3a\"], [0.8888888888888888, \"#fdca26\"], [1.0, \"#f0f921\"]]}, \"colorway\": [\"#636efa\", \"#EF553B\", \"#00cc96\", \"#ab63fa\", \"#FFA15A\", \"#19d3f3\", \"#FF6692\", \"#B6E880\", \"#FF97FF\", \"#FECB52\"], \"font\": {\"color\": \"#2a3f5f\"}, \"geo\": {\"bgcolor\": \"white\", \"lakecolor\": \"white\", \"landcolor\": \"#E5ECF6\", \"showlakes\": true, \"showland\": true, \"subunitcolor\": \"white\"}, \"hoverlabel\": {\"align\": \"left\"}, \"hovermode\": \"closest\", \"mapbox\": {\"style\": \"light\"}, \"paper_bgcolor\": \"white\", \"plot_bgcolor\": \"#E5ECF6\", \"polar\": {\"angularaxis\": {\"gridcolor\": \"white\", \"linecolor\": \"white\", \"ticks\": \"\"}, \"bgcolor\": \"#E5ECF6\", \"radialaxis\": {\"gridcolor\": \"white\", \"linecolor\": \"white\", \"ticks\": \"\"}}, \"scene\": {\"xaxis\": {\"backgroundcolor\": \"#E5ECF6\", \"gridcolor\": \"white\", \"gridwidth\": 2, \"linecolor\": \"white\", \"showbackground\": true, \"ticks\": \"\", \"zerolinecolor\": \"white\"}, \"yaxis\": {\"backgroundcolor\": \"#E5ECF6\", \"gridcolor\": \"white\", \"gridwidth\": 2, \"linecolor\": \"white\", \"showbackground\": true, \"ticks\": \"\", \"zerolinecolor\": \"white\"}, \"zaxis\": {\"backgroundcolor\": \"#E5ECF6\", \"gridcolor\": \"white\", \"gridwidth\": 2, \"linecolor\": \"white\", \"showbackground\": true, \"ticks\": \"\", \"zerolinecolor\": \"white\"}}, \"shapedefaults\": {\"line\": {\"color\": \"#2a3f5f\"}}, \"ternary\": {\"aaxis\": {\"gridcolor\": \"white\", \"linecolor\": \"white\", \"ticks\": \"\"}, \"baxis\": {\"gridcolor\": \"white\", \"linecolor\": \"white\", \"ticks\": \"\"}, \"bgcolor\": \"#E5ECF6\", \"caxis\": {\"gridcolor\": \"white\", \"linecolor\": \"white\", \"ticks\": \"\"}}, \"title\": {\"x\": 0.05}, \"xaxis\": {\"automargin\": true, \"gridcolor\": \"white\", \"linecolor\": \"white\", \"ticks\": \"\", \"title\": {\"standoff\": 15}, \"zerolinecolor\": \"white\", \"zerolinewidth\": 2}, \"yaxis\": {\"automargin\": true, \"gridcolor\": \"white\", \"linecolor\": \"white\", \"ticks\": \"\", \"title\": {\"standoff\": 15}, \"zerolinecolor\": \"white\", \"zerolinewidth\": 2}}}, \"title\": {\"text\": \"Show the most common words in the support ticket issue description\"}},\n",
       "                        {\"responsive\": true}\n",
       "                    ).then(function(){\n",
       "                            \n",
       "var gd = document.getElementById('70f54aa9-1928-439d-9d84-38b969a5cfda');\n",
       "var x = new MutationObserver(function (mutations, observer) {{\n",
       "        var display = window.getComputedStyle(gd).display;\n",
       "        if (!display || display === 'none') {{\n",
       "            console.log([gd, 'removed!']);\n",
       "            Plotly.purge(gd);\n",
       "            observer.disconnect();\n",
       "        }}\n",
       "}});\n",
       "\n",
       "// Listen for the removal of the full notebook cells\n",
       "var notebookContainer = gd.closest('#notebook-container');\n",
       "if (notebookContainer) {{\n",
       "    x.observe(notebookContainer, {childList: true});\n",
       "}}\n",
       "\n",
       "// Listen for the clearing of the current output cell\n",
       "var outputEl = gd.closest('.output');\n",
       "if (outputEl) {{\n",
       "    x.observe(outputEl, {childList: true});\n",
       "}}\n",
       "\n",
       "                        })\n",
       "                };\n",
       "                });\n",
       "            </script>\n",
       "        </div>"
      ]
     },
     "metadata": {},
     "output_type": "display_data"
    }
   ],
   "source": [
    "vectorizer.vocabulary_\n",
    "sort_orders = sorted(vectorizer.vocabulary_.items(), key=lambda x: x[1], reverse=True)[:20]\n",
    "\n",
    "xplot = []\n",
    "yplot = []\n",
    "\n",
    "for i in sort_orders:\n",
    "    xplot.append(i[1])\n",
    "    yplot.append(i[0])\n",
    "    \n",
    "import plotly.graph_objects as go\n",
    "\n",
    "dict_of_fig = dict({\n",
    "    \"data\": [{\"type\": \"bar\",\n",
    "              \"x\": xplot,\n",
    "              \"y\": yplot}],\n",
    "    \"layout\": {\"title\": {\"text\": \"Show the most common words in the support ticket issue description\"}}\n",
    "})\n",
    "\n",
    "fig = go.Figure(dict_of_fig)\n",
    "\n",
    "fig.show()\n"
   ]
  },
  {
   "cell_type": "code",
   "execution_count": 33,
   "metadata": {},
   "outputs": [
    {
     "ename": "NameError",
     "evalue": "name 'string' is not defined",
     "output_type": "error",
     "traceback": [
      "\u001b[1;31m---------------------------------------------------------------------------\u001b[0m",
      "\u001b[1;31mNameError\u001b[0m                                 Traceback (most recent call last)",
      "\u001b[1;32m<ipython-input-33-a75adbf4cc95>\u001b[0m in \u001b[0;36m<module>\u001b[1;34m\u001b[0m\n\u001b[0;32m      1\u001b[0m \u001b[1;32mfrom\u001b[0m \u001b[0mwordcloud\u001b[0m \u001b[1;32mimport\u001b[0m \u001b[0mWordCloud\u001b[0m\u001b[1;33m,\u001b[0m \u001b[0mSTOPWORDS\u001b[0m\u001b[1;33m,\u001b[0m \u001b[0mImageColorGenerator\u001b[0m\u001b[1;33m\u001b[0m\u001b[1;33m\u001b[0m\u001b[0m\n\u001b[0;32m      2\u001b[0m \u001b[1;33m\u001b[0m\u001b[0m\n\u001b[1;32m----> 3\u001b[1;33m \u001b[0mwordcl\u001b[0m \u001b[1;33m=\u001b[0m \u001b[0mWordCloud\u001b[0m\u001b[1;33m(\u001b[0m\u001b[1;33m)\u001b[0m\u001b[1;33m.\u001b[0m\u001b[0mgenerate\u001b[0m\u001b[1;33m(\u001b[0m\u001b[0mstring\u001b[0m\u001b[1;33m.\u001b[0m\u001b[0mjoin\u001b[0m\u001b[1;33m(\u001b[0m\u001b[0mdata\u001b[0m\u001b[1;33m)\u001b[0m\u001b[1;33m)\u001b[0m\u001b[1;33m\u001b[0m\u001b[1;33m\u001b[0m\u001b[0m\n\u001b[0m\u001b[0;32m      4\u001b[0m \u001b[0mplt\u001b[0m\u001b[1;33m.\u001b[0m\u001b[0mimshow\u001b[0m\u001b[1;33m(\u001b[0m\u001b[0mwordcl\u001b[0m\u001b[1;33m,\u001b[0m \u001b[0minterpolation\u001b[0m\u001b[1;33m=\u001b[0m\u001b[1;34m'bilinear'\u001b[0m\u001b[1;33m)\u001b[0m\u001b[1;33m\u001b[0m\u001b[1;33m\u001b[0m\u001b[0m\n\u001b[0;32m      5\u001b[0m \u001b[0mplt\u001b[0m\u001b[1;33m.\u001b[0m\u001b[0maxis\u001b[0m\u001b[1;33m(\u001b[0m\u001b[1;34m'off'\u001b[0m\u001b[1;33m)\u001b[0m\u001b[1;33m\u001b[0m\u001b[1;33m\u001b[0m\u001b[0m\n",
      "\u001b[1;31mNameError\u001b[0m: name 'string' is not defined"
     ]
    }
   ],
   "source": [
    "from wordcloud import WordCloud, STOPWORDS, ImageColorGenerator\n",
    "\n",
    "wordcl = WordCloud().generate(\" \".join(data))\n",
    "plt.imshow(wordcl, interpolation='bilinear')\n",
    "plt.axis('off')\n",
    "plt.show()"
   ]
  },
  {
   "cell_type": "code",
   "execution_count": 10,
   "metadata": {},
   "outputs": [
    {
     "data": {
      "text/html": [
       "<div>\n",
       "<style scoped>\n",
       "    .dataframe tbody tr th:only-of-type {\n",
       "        vertical-align: middle;\n",
       "    }\n",
       "\n",
       "    .dataframe tbody tr th {\n",
       "        vertical-align: top;\n",
       "    }\n",
       "\n",
       "    .dataframe thead th {\n",
       "        text-align: right;\n",
       "    }\n",
       "</style>\n",
       "<table border=\"1\" class=\"dataframe\">\n",
       "  <thead>\n",
       "    <tr style=\"text-align: right;\">\n",
       "      <th></th>\n",
       "      <th>0</th>\n",
       "      <th>1</th>\n",
       "      <th>2</th>\n",
       "      <th>3</th>\n",
       "      <th>4</th>\n",
       "      <th>5</th>\n",
       "      <th>6</th>\n",
       "      <th>7</th>\n",
       "      <th>8</th>\n",
       "      <th>9</th>\n",
       "      <th>10</th>\n",
       "      <th>11</th>\n",
       "      <th>12</th>\n",
       "      <th>13</th>\n",
       "      <th>14</th>\n",
       "      <th>15</th>\n",
       "      <th>16</th>\n",
       "      <th>17</th>\n",
       "      <th>18</th>\n",
       "      <th>19</th>\n",
       "    </tr>\n",
       "  </thead>\n",
       "  <tbody>\n",
       "    <tr>\n",
       "      <th>0123456789</th>\n",
       "      <td>0.000000</td>\n",
       "      <td>0.468989</td>\n",
       "      <td>0.368501</td>\n",
       "      <td>0.350196</td>\n",
       "      <td>0.0</td>\n",
       "      <td>0.000000</td>\n",
       "      <td>0.0</td>\n",
       "      <td>0.000000</td>\n",
       "      <td>0.0</td>\n",
       "      <td>0.000000</td>\n",
       "      <td>0.000000</td>\n",
       "      <td>0.0</td>\n",
       "      <td>0.0</td>\n",
       "      <td>0.000000</td>\n",
       "      <td>0.000000</td>\n",
       "      <td>0.000000</td>\n",
       "      <td>0.000000</td>\n",
       "      <td>0.0</td>\n",
       "      <td>0.000000</td>\n",
       "      <td>0.0</td>\n",
       "    </tr>\n",
       "    <tr>\n",
       "      <th>intervention</th>\n",
       "      <td>0.000000</td>\n",
       "      <td>0.468989</td>\n",
       "      <td>0.368501</td>\n",
       "      <td>0.000000</td>\n",
       "      <td>0.0</td>\n",
       "      <td>0.000000</td>\n",
       "      <td>0.0</td>\n",
       "      <td>0.382985</td>\n",
       "      <td>0.0</td>\n",
       "      <td>0.000000</td>\n",
       "      <td>0.000000</td>\n",
       "      <td>0.0</td>\n",
       "      <td>0.0</td>\n",
       "      <td>0.000000</td>\n",
       "      <td>0.000000</td>\n",
       "      <td>0.000000</td>\n",
       "      <td>0.000000</td>\n",
       "      <td>0.0</td>\n",
       "      <td>0.000000</td>\n",
       "      <td>0.0</td>\n",
       "    </tr>\n",
       "    <tr>\n",
       "      <th>requires</th>\n",
       "      <td>0.000000</td>\n",
       "      <td>0.468989</td>\n",
       "      <td>0.368501</td>\n",
       "      <td>0.000000</td>\n",
       "      <td>0.0</td>\n",
       "      <td>0.000000</td>\n",
       "      <td>0.0</td>\n",
       "      <td>0.382985</td>\n",
       "      <td>0.0</td>\n",
       "      <td>0.000000</td>\n",
       "      <td>0.000000</td>\n",
       "      <td>0.0</td>\n",
       "      <td>0.0</td>\n",
       "      <td>0.000000</td>\n",
       "      <td>0.000000</td>\n",
       "      <td>0.000000</td>\n",
       "      <td>0.000000</td>\n",
       "      <td>0.0</td>\n",
       "      <td>0.000000</td>\n",
       "      <td>0.0</td>\n",
       "    </tr>\n",
       "    <tr>\n",
       "      <th>manual</th>\n",
       "      <td>0.000000</td>\n",
       "      <td>0.468989</td>\n",
       "      <td>0.368501</td>\n",
       "      <td>0.000000</td>\n",
       "      <td>0.0</td>\n",
       "      <td>0.000000</td>\n",
       "      <td>0.0</td>\n",
       "      <td>0.382985</td>\n",
       "      <td>0.0</td>\n",
       "      <td>0.000000</td>\n",
       "      <td>0.000000</td>\n",
       "      <td>0.0</td>\n",
       "      <td>0.0</td>\n",
       "      <td>0.000000</td>\n",
       "      <td>0.000000</td>\n",
       "      <td>0.000000</td>\n",
       "      <td>0.000000</td>\n",
       "      <td>0.0</td>\n",
       "      <td>0.000000</td>\n",
       "      <td>0.0</td>\n",
       "    </tr>\n",
       "    <tr>\n",
       "      <th>customer</th>\n",
       "      <td>0.000000</td>\n",
       "      <td>0.346697</td>\n",
       "      <td>0.272412</td>\n",
       "      <td>0.258880</td>\n",
       "      <td>0.0</td>\n",
       "      <td>0.000000</td>\n",
       "      <td>0.0</td>\n",
       "      <td>0.000000</td>\n",
       "      <td>0.0</td>\n",
       "      <td>0.000000</td>\n",
       "      <td>0.300733</td>\n",
       "      <td>0.0</td>\n",
       "      <td>0.0</td>\n",
       "      <td>0.293034</td>\n",
       "      <td>0.302968</td>\n",
       "      <td>0.253648</td>\n",
       "      <td>0.000000</td>\n",
       "      <td>0.0</td>\n",
       "      <td>0.000000</td>\n",
       "      <td>0.0</td>\n",
       "    </tr>\n",
       "    <tr>\n",
       "      <th>ms</th>\n",
       "      <td>0.000000</td>\n",
       "      <td>0.000000</td>\n",
       "      <td>0.000000</td>\n",
       "      <td>0.000000</td>\n",
       "      <td>0.0</td>\n",
       "      <td>0.000000</td>\n",
       "      <td>0.0</td>\n",
       "      <td>0.000000</td>\n",
       "      <td>0.0</td>\n",
       "      <td>0.000000</td>\n",
       "      <td>0.000000</td>\n",
       "      <td>0.0</td>\n",
       "      <td>0.0</td>\n",
       "      <td>0.439296</td>\n",
       "      <td>0.454188</td>\n",
       "      <td>0.000000</td>\n",
       "      <td>0.000000</td>\n",
       "      <td>0.0</td>\n",
       "      <td>0.000000</td>\n",
       "      <td>0.0</td>\n",
       "    </tr>\n",
       "    <tr>\n",
       "      <th>placed</th>\n",
       "      <td>0.000000</td>\n",
       "      <td>0.000000</td>\n",
       "      <td>0.000000</td>\n",
       "      <td>0.000000</td>\n",
       "      <td>0.0</td>\n",
       "      <td>0.000000</td>\n",
       "      <td>0.0</td>\n",
       "      <td>0.000000</td>\n",
       "      <td>0.0</td>\n",
       "      <td>0.000000</td>\n",
       "      <td>0.000000</td>\n",
       "      <td>0.0</td>\n",
       "      <td>0.0</td>\n",
       "      <td>0.000000</td>\n",
       "      <td>0.000000</td>\n",
       "      <td>0.000000</td>\n",
       "      <td>0.464783</td>\n",
       "      <td>0.0</td>\n",
       "      <td>0.000000</td>\n",
       "      <td>0.0</td>\n",
       "    </tr>\n",
       "    <tr>\n",
       "      <th>payroll</th>\n",
       "      <td>0.000000</td>\n",
       "      <td>0.000000</td>\n",
       "      <td>0.000000</td>\n",
       "      <td>0.000000</td>\n",
       "      <td>0.0</td>\n",
       "      <td>0.000000</td>\n",
       "      <td>0.0</td>\n",
       "      <td>0.000000</td>\n",
       "      <td>0.0</td>\n",
       "      <td>0.447214</td>\n",
       "      <td>0.000000</td>\n",
       "      <td>0.0</td>\n",
       "      <td>0.0</td>\n",
       "      <td>0.000000</td>\n",
       "      <td>0.000000</td>\n",
       "      <td>0.000000</td>\n",
       "      <td>0.000000</td>\n",
       "      <td>0.0</td>\n",
       "      <td>0.000000</td>\n",
       "      <td>0.0</td>\n",
       "    </tr>\n",
       "    <tr>\n",
       "      <th>order</th>\n",
       "      <td>0.000000</td>\n",
       "      <td>0.000000</td>\n",
       "      <td>0.000000</td>\n",
       "      <td>0.000000</td>\n",
       "      <td>0.0</td>\n",
       "      <td>0.000000</td>\n",
       "      <td>0.0</td>\n",
       "      <td>0.000000</td>\n",
       "      <td>0.0</td>\n",
       "      <td>0.000000</td>\n",
       "      <td>0.000000</td>\n",
       "      <td>0.0</td>\n",
       "      <td>0.0</td>\n",
       "      <td>0.000000</td>\n",
       "      <td>0.000000</td>\n",
       "      <td>0.000000</td>\n",
       "      <td>0.464783</td>\n",
       "      <td>0.0</td>\n",
       "      <td>0.000000</td>\n",
       "      <td>0.0</td>\n",
       "    </tr>\n",
       "    <tr>\n",
       "      <th>office</th>\n",
       "      <td>0.276015</td>\n",
       "      <td>0.000000</td>\n",
       "      <td>0.000000</td>\n",
       "      <td>0.000000</td>\n",
       "      <td>0.0</td>\n",
       "      <td>0.340301</td>\n",
       "      <td>0.0</td>\n",
       "      <td>0.000000</td>\n",
       "      <td>0.0</td>\n",
       "      <td>0.000000</td>\n",
       "      <td>0.372662</td>\n",
       "      <td>0.0</td>\n",
       "      <td>0.0</td>\n",
       "      <td>0.000000</td>\n",
       "      <td>0.000000</td>\n",
       "      <td>0.000000</td>\n",
       "      <td>0.000000</td>\n",
       "      <td>0.0</td>\n",
       "      <td>0.285926</td>\n",
       "      <td>0.0</td>\n",
       "    </tr>\n",
       "  </tbody>\n",
       "</table>\n",
       "</div>"
      ],
      "text/plain": [
       "                    0         1         2         3    4         5    6   \\\n",
       "0123456789    0.000000  0.468989  0.368501  0.350196  0.0  0.000000  0.0   \n",
       "intervention  0.000000  0.468989  0.368501  0.000000  0.0  0.000000  0.0   \n",
       "requires      0.000000  0.468989  0.368501  0.000000  0.0  0.000000  0.0   \n",
       "manual        0.000000  0.468989  0.368501  0.000000  0.0  0.000000  0.0   \n",
       "customer      0.000000  0.346697  0.272412  0.258880  0.0  0.000000  0.0   \n",
       "ms            0.000000  0.000000  0.000000  0.000000  0.0  0.000000  0.0   \n",
       "placed        0.000000  0.000000  0.000000  0.000000  0.0  0.000000  0.0   \n",
       "payroll       0.000000  0.000000  0.000000  0.000000  0.0  0.000000  0.0   \n",
       "order         0.000000  0.000000  0.000000  0.000000  0.0  0.000000  0.0   \n",
       "office        0.276015  0.000000  0.000000  0.000000  0.0  0.340301  0.0   \n",
       "\n",
       "                    7    8         9         10   11   12        13        14  \\\n",
       "0123456789    0.000000  0.0  0.000000  0.000000  0.0  0.0  0.000000  0.000000   \n",
       "intervention  0.382985  0.0  0.000000  0.000000  0.0  0.0  0.000000  0.000000   \n",
       "requires      0.382985  0.0  0.000000  0.000000  0.0  0.0  0.000000  0.000000   \n",
       "manual        0.382985  0.0  0.000000  0.000000  0.0  0.0  0.000000  0.000000   \n",
       "customer      0.000000  0.0  0.000000  0.300733  0.0  0.0  0.293034  0.302968   \n",
       "ms            0.000000  0.0  0.000000  0.000000  0.0  0.0  0.439296  0.454188   \n",
       "placed        0.000000  0.0  0.000000  0.000000  0.0  0.0  0.000000  0.000000   \n",
       "payroll       0.000000  0.0  0.447214  0.000000  0.0  0.0  0.000000  0.000000   \n",
       "order         0.000000  0.0  0.000000  0.000000  0.0  0.0  0.000000  0.000000   \n",
       "office        0.000000  0.0  0.000000  0.372662  0.0  0.0  0.000000  0.000000   \n",
       "\n",
       "                    15        16   17        18   19  \n",
       "0123456789    0.000000  0.000000  0.0  0.000000  0.0  \n",
       "intervention  0.000000  0.000000  0.0  0.000000  0.0  \n",
       "requires      0.000000  0.000000  0.0  0.000000  0.0  \n",
       "manual        0.000000  0.000000  0.0  0.000000  0.0  \n",
       "customer      0.253648  0.000000  0.0  0.000000  0.0  \n",
       "ms            0.000000  0.000000  0.0  0.000000  0.0  \n",
       "placed        0.000000  0.464783  0.0  0.000000  0.0  \n",
       "payroll       0.000000  0.000000  0.0  0.000000  0.0  \n",
       "order         0.000000  0.464783  0.0  0.000000  0.0  \n",
       "office        0.000000  0.000000  0.0  0.285926  0.0  "
      ]
     },
     "execution_count": 10,
     "metadata": {},
     "output_type": "execute_result"
    }
   ],
   "source": [
    "counts = pd.DataFrame(vectorizer.fit_transform(texts).toarray(),\n",
    "                      columns=vectorizer.get_feature_names())\n",
    "counts.T.sort_values(by=1, ascending=False).head(10)"
   ]
  },
  {
   "cell_type": "code",
   "execution_count": 11,
   "metadata": {},
   "outputs": [
    {
     "ename": "FileNotFoundError",
     "evalue": "[Errno 2] No such file or directory: '../../data/Live Site Issues all.xlsx'",
     "output_type": "error",
     "traceback": [
      "\u001b[1;31m---------------------------------------------------------------------------\u001b[0m",
      "\u001b[1;31mFileNotFoundError\u001b[0m                         Traceback (most recent call last)",
      "\u001b[1;32m<ipython-input-11-a525dd485ab9>\u001b[0m in \u001b[0;36m<module>\u001b[1;34m\u001b[0m\n\u001b[0;32m      1\u001b[0m \u001b[1;31m# Read yelp.csv into a DataFrame.\u001b[0m\u001b[1;33m\u001b[0m\u001b[1;33m\u001b[0m\u001b[1;33m\u001b[0m\u001b[0m\n\u001b[0;32m      2\u001b[0m \u001b[0mpath\u001b[0m \u001b[1;33m=\u001b[0m \u001b[1;34m'../../data/Live Site Issues all.xlsx'\u001b[0m\u001b[1;33m\u001b[0m\u001b[1;33m\u001b[0m\u001b[0m\n\u001b[1;32m----> 3\u001b[1;33m \u001b[0mliveSiteAll\u001b[0m \u001b[1;33m=\u001b[0m \u001b[0mpd\u001b[0m\u001b[1;33m.\u001b[0m\u001b[0mread_excel\u001b[0m\u001b[1;33m(\u001b[0m\u001b[0mpath\u001b[0m\u001b[1;33m)\u001b[0m\u001b[1;33m\u001b[0m\u001b[1;33m\u001b[0m\u001b[0m\n\u001b[0m\u001b[0;32m      4\u001b[0m \u001b[0mliveSiteAll\u001b[0m\u001b[1;33m.\u001b[0m\u001b[0mdrop\u001b[0m\u001b[1;33m(\u001b[0m\u001b[1;33m[\u001b[0m\u001b[1;34m'App Created By'\u001b[0m\u001b[1;33m,\u001b[0m\u001b[1;34m'App Modified By'\u001b[0m\u001b[1;33m,\u001b[0m\u001b[1;34m'Content Type'\u001b[0m\u001b[1;33m,\u001b[0m\u001b[1;34m'Modified'\u001b[0m\u001b[1;33m,\u001b[0m\u001b[1;34m'Modified By'\u001b[0m\u001b[1;33m,\u001b[0m\u001b[1;34m'Item Type'\u001b[0m\u001b[1;33m,\u001b[0m\u001b[1;34m'Item Type'\u001b[0m\u001b[1;33m,\u001b[0m\u001b[1;34m'Defect number'\u001b[0m\u001b[1;33m,\u001b[0m\u001b[1;34m'Assigned To'\u001b[0m\u001b[1;33m,\u001b[0m\u001b[1;34m'Status'\u001b[0m\u001b[1;33m,\u001b[0m\u001b[1;34m'Time Taken CE to Resolve the Issue'\u001b[0m\u001b[1;33m,\u001b[0m\u001b[1;34m'Folder Child Count'\u001b[0m\u001b[1;33m,\u001b[0m\u001b[1;34m'Path'\u001b[0m\u001b[1;33m,\u001b[0m\u001b[1;34m'Item Child Count'\u001b[0m\u001b[1;33m,\u001b[0m\u001b[1;34m'Time taken to unblock the customer'\u001b[0m\u001b[1;33m]\u001b[0m\u001b[1;33m,\u001b[0m \u001b[0minplace\u001b[0m\u001b[1;33m=\u001b[0m\u001b[1;32mTrue\u001b[0m\u001b[1;33m,\u001b[0m \u001b[0maxis\u001b[0m\u001b[1;33m=\u001b[0m\u001b[1;36m1\u001b[0m\u001b[1;33m)\u001b[0m\u001b[1;33m\u001b[0m\u001b[1;33m\u001b[0m\u001b[0m\n\u001b[0;32m      5\u001b[0m \u001b[1;33m\u001b[0m\u001b[0m\n",
      "\u001b[1;32m~\\Anaconda3\\lib\\site-packages\\pandas\\util\\_decorators.py\u001b[0m in \u001b[0;36mwrapper\u001b[1;34m(*args, **kwargs)\u001b[0m\n\u001b[0;32m    297\u001b[0m                 )\n\u001b[0;32m    298\u001b[0m                 \u001b[0mwarnings\u001b[0m\u001b[1;33m.\u001b[0m\u001b[0mwarn\u001b[0m\u001b[1;33m(\u001b[0m\u001b[0mmsg\u001b[0m\u001b[1;33m,\u001b[0m \u001b[0mFutureWarning\u001b[0m\u001b[1;33m,\u001b[0m \u001b[0mstacklevel\u001b[0m\u001b[1;33m=\u001b[0m\u001b[0mstacklevel\u001b[0m\u001b[1;33m)\u001b[0m\u001b[1;33m\u001b[0m\u001b[1;33m\u001b[0m\u001b[0m\n\u001b[1;32m--> 299\u001b[1;33m             \u001b[1;32mreturn\u001b[0m \u001b[0mfunc\u001b[0m\u001b[1;33m(\u001b[0m\u001b[1;33m*\u001b[0m\u001b[0margs\u001b[0m\u001b[1;33m,\u001b[0m \u001b[1;33m**\u001b[0m\u001b[0mkwargs\u001b[0m\u001b[1;33m)\u001b[0m\u001b[1;33m\u001b[0m\u001b[1;33m\u001b[0m\u001b[0m\n\u001b[0m\u001b[0;32m    300\u001b[0m \u001b[1;33m\u001b[0m\u001b[0m\n\u001b[0;32m    301\u001b[0m         \u001b[1;32mreturn\u001b[0m \u001b[0mwrapper\u001b[0m\u001b[1;33m\u001b[0m\u001b[1;33m\u001b[0m\u001b[0m\n",
      "\u001b[1;32m~\\Anaconda3\\lib\\site-packages\\pandas\\io\\excel\\_base.py\u001b[0m in \u001b[0;36mread_excel\u001b[1;34m(io, sheet_name, header, names, index_col, usecols, squeeze, dtype, engine, converters, true_values, false_values, skiprows, nrows, na_values, keep_default_na, na_filter, verbose, parse_dates, date_parser, thousands, comment, skipfooter, convert_float, mangle_dupe_cols, storage_options)\u001b[0m\n\u001b[0;32m    334\u001b[0m     \u001b[1;32mif\u001b[0m \u001b[1;32mnot\u001b[0m \u001b[0misinstance\u001b[0m\u001b[1;33m(\u001b[0m\u001b[0mio\u001b[0m\u001b[1;33m,\u001b[0m \u001b[0mExcelFile\u001b[0m\u001b[1;33m)\u001b[0m\u001b[1;33m:\u001b[0m\u001b[1;33m\u001b[0m\u001b[1;33m\u001b[0m\u001b[0m\n\u001b[0;32m    335\u001b[0m         \u001b[0mshould_close\u001b[0m \u001b[1;33m=\u001b[0m \u001b[1;32mTrue\u001b[0m\u001b[1;33m\u001b[0m\u001b[1;33m\u001b[0m\u001b[0m\n\u001b[1;32m--> 336\u001b[1;33m         \u001b[0mio\u001b[0m \u001b[1;33m=\u001b[0m \u001b[0mExcelFile\u001b[0m\u001b[1;33m(\u001b[0m\u001b[0mio\u001b[0m\u001b[1;33m,\u001b[0m \u001b[0mstorage_options\u001b[0m\u001b[1;33m=\u001b[0m\u001b[0mstorage_options\u001b[0m\u001b[1;33m,\u001b[0m \u001b[0mengine\u001b[0m\u001b[1;33m=\u001b[0m\u001b[0mengine\u001b[0m\u001b[1;33m)\u001b[0m\u001b[1;33m\u001b[0m\u001b[1;33m\u001b[0m\u001b[0m\n\u001b[0m\u001b[0;32m    337\u001b[0m     \u001b[1;32melif\u001b[0m \u001b[0mengine\u001b[0m \u001b[1;32mand\u001b[0m \u001b[0mengine\u001b[0m \u001b[1;33m!=\u001b[0m \u001b[0mio\u001b[0m\u001b[1;33m.\u001b[0m\u001b[0mengine\u001b[0m\u001b[1;33m:\u001b[0m\u001b[1;33m\u001b[0m\u001b[1;33m\u001b[0m\u001b[0m\n\u001b[0;32m    338\u001b[0m         raise ValueError(\n",
      "\u001b[1;32m~\\Anaconda3\\lib\\site-packages\\pandas\\io\\excel\\_base.py\u001b[0m in \u001b[0;36m__init__\u001b[1;34m(self, path_or_buffer, engine, storage_options)\u001b[0m\n\u001b[0;32m   1069\u001b[0m                 \u001b[0mext\u001b[0m \u001b[1;33m=\u001b[0m \u001b[1;34m\"xls\"\u001b[0m\u001b[1;33m\u001b[0m\u001b[1;33m\u001b[0m\u001b[0m\n\u001b[0;32m   1070\u001b[0m             \u001b[1;32melse\u001b[0m\u001b[1;33m:\u001b[0m\u001b[1;33m\u001b[0m\u001b[1;33m\u001b[0m\u001b[0m\n\u001b[1;32m-> 1071\u001b[1;33m                 ext = inspect_excel_format(\n\u001b[0m\u001b[0;32m   1072\u001b[0m                     \u001b[0mcontent\u001b[0m\u001b[1;33m=\u001b[0m\u001b[0mpath_or_buffer\u001b[0m\u001b[1;33m,\u001b[0m \u001b[0mstorage_options\u001b[0m\u001b[1;33m=\u001b[0m\u001b[0mstorage_options\u001b[0m\u001b[1;33m\u001b[0m\u001b[1;33m\u001b[0m\u001b[0m\n\u001b[0;32m   1073\u001b[0m                 )\n",
      "\u001b[1;32m~\\Anaconda3\\lib\\site-packages\\pandas\\io\\excel\\_base.py\u001b[0m in \u001b[0;36minspect_excel_format\u001b[1;34m(path, content, storage_options)\u001b[0m\n\u001b[0;32m    947\u001b[0m     \u001b[1;32massert\u001b[0m \u001b[0mcontent_or_path\u001b[0m \u001b[1;32mis\u001b[0m \u001b[1;32mnot\u001b[0m \u001b[1;32mNone\u001b[0m\u001b[1;33m\u001b[0m\u001b[1;33m\u001b[0m\u001b[0m\n\u001b[0;32m    948\u001b[0m \u001b[1;33m\u001b[0m\u001b[0m\n\u001b[1;32m--> 949\u001b[1;33m     with get_handle(\n\u001b[0m\u001b[0;32m    950\u001b[0m         \u001b[0mcontent_or_path\u001b[0m\u001b[1;33m,\u001b[0m \u001b[1;34m\"rb\"\u001b[0m\u001b[1;33m,\u001b[0m \u001b[0mstorage_options\u001b[0m\u001b[1;33m=\u001b[0m\u001b[0mstorage_options\u001b[0m\u001b[1;33m,\u001b[0m \u001b[0mis_text\u001b[0m\u001b[1;33m=\u001b[0m\u001b[1;32mFalse\u001b[0m\u001b[1;33m\u001b[0m\u001b[1;33m\u001b[0m\u001b[0m\n\u001b[0;32m    951\u001b[0m     ) as handle:\n",
      "\u001b[1;32m~\\Anaconda3\\lib\\site-packages\\pandas\\io\\common.py\u001b[0m in \u001b[0;36mget_handle\u001b[1;34m(path_or_buf, mode, encoding, compression, memory_map, is_text, errors, storage_options)\u001b[0m\n\u001b[0;32m    649\u001b[0m         \u001b[1;32melse\u001b[0m\u001b[1;33m:\u001b[0m\u001b[1;33m\u001b[0m\u001b[1;33m\u001b[0m\u001b[0m\n\u001b[0;32m    650\u001b[0m             \u001b[1;31m# Binary mode\u001b[0m\u001b[1;33m\u001b[0m\u001b[1;33m\u001b[0m\u001b[1;33m\u001b[0m\u001b[0m\n\u001b[1;32m--> 651\u001b[1;33m             \u001b[0mhandle\u001b[0m \u001b[1;33m=\u001b[0m \u001b[0mopen\u001b[0m\u001b[1;33m(\u001b[0m\u001b[0mhandle\u001b[0m\u001b[1;33m,\u001b[0m \u001b[0mioargs\u001b[0m\u001b[1;33m.\u001b[0m\u001b[0mmode\u001b[0m\u001b[1;33m)\u001b[0m\u001b[1;33m\u001b[0m\u001b[1;33m\u001b[0m\u001b[0m\n\u001b[0m\u001b[0;32m    652\u001b[0m         \u001b[0mhandles\u001b[0m\u001b[1;33m.\u001b[0m\u001b[0mappend\u001b[0m\u001b[1;33m(\u001b[0m\u001b[0mhandle\u001b[0m\u001b[1;33m)\u001b[0m\u001b[1;33m\u001b[0m\u001b[1;33m\u001b[0m\u001b[0m\n\u001b[0;32m    653\u001b[0m \u001b[1;33m\u001b[0m\u001b[0m\n",
      "\u001b[1;31mFileNotFoundError\u001b[0m: [Errno 2] No such file or directory: '../../data/Live Site Issues all.xlsx'"
     ]
    }
   ],
   "source": [
    "# Read yelp.csv into a DataFrame.\n",
    "path = '../../data/Live Site Issues all.xlsx'\n",
    "liveSiteAll = pd.read_excel(path)\n",
    "liveSiteAll.drop(['App Created By','App Modified By','Content Type','Modified','Modified By','Item Type','Item Type','Defect number','Assigned To','Status','Time Taken CE to Resolve the Issue','Folder Child Count','Path','Item Child Count','Time taken to unblock the customer'], inplace=True, axis=1)\n",
    "\n",
    "liveSiteAllDescSol = liveSiteAll[['Description','Solution']]\n",
    "\n",
    "liveSiteAllDescSolSubset = liveSiteAllDescSol.head(20)\n",
    "liveSiteAllDescSolSubset"
   ]
  },
  {
   "cell_type": "code",
   "execution_count": 12,
   "metadata": {},
   "outputs": [
    {
     "ename": "NameError",
     "evalue": "name 'l' is not defined",
     "output_type": "error",
     "traceback": [
      "\u001b[1;31m---------------------------------------------------------------------------\u001b[0m",
      "\u001b[1;31mNameError\u001b[0m                                 Traceback (most recent call last)",
      "\u001b[1;32m<ipython-input-12-cde25b5e10ad>\u001b[0m in \u001b[0;36m<module>\u001b[1;34m\u001b[0m\n\u001b[1;32m----> 1\u001b[1;33m \u001b[0ml\u001b[0m\u001b[1;33m\u001b[0m\u001b[1;33m\u001b[0m\u001b[0m\n\u001b[0m",
      "\u001b[1;31mNameError\u001b[0m: name 'l' is not defined"
     ]
    }
   ],
   "source": [
    "l"
   ]
  },
  {
   "cell_type": "code",
   "execution_count": 59,
   "metadata": {},
   "outputs": [],
   "source": []
  },
  {
   "cell_type": "code",
   "execution_count": 60,
   "metadata": {},
   "outputs": [
    {
     "data": {
      "text/plain": [
       "<15x484 sparse matrix of type '<class 'numpy.int64'>'\n",
       "\twith 745 stored elements in Compressed Sparse Row format>"
      ]
     },
     "execution_count": 60,
     "metadata": {},
     "output_type": "execute_result"
    }
   ],
   "source": []
  },
  {
   "cell_type": "code",
   "execution_count": 61,
   "metadata": {},
   "outputs": [
    {
     "name": "stdout",
     "output_type": "stream",
     "text": [
      "['traffic', 'transientfaulthandling', 'true', 'turned', 'two', 'type', 'uk', 'um', 'un', 'unable', 'unaccepted', 'unknown', 'unrecoverableexception', 'unsuccessful', 'update', 'updateentitlement', 'updatemscustomerorder', 'updatemsorder', 'urgency', 'us', 'use', 'user', 'useraccesslog', 'useraccesslogsvc', 'useraccessoriginator', 'users', 'uses', 'using', 'validation', 'verify', 'via', 'wad', 'warning', 'was', 'we', 'went', 'were', 'when', 'where', 'which', 'why', 'will', 'wins', 'with', 'workerrole', 'would', 'xanadu', 'xml', 'you', 'your']\n"
     ]
    }
   ],
   "source": []
  },
  {
   "cell_type": "code",
   "execution_count": 71,
   "metadata": {},
   "outputs": [],
   "source": []
  },
  {
   "cell_type": "code",
   "execution_count": 72,
   "metadata": {},
   "outputs": [
    {
     "data": {
      "text/plain": [
       "['win', 'with', 'would', 'x', 'xanadu', 'xml', 'you', 'your', '“', '”']"
      ]
     },
     "execution_count": 72,
     "metadata": {},
     "output_type": "execute_result"
    }
   ],
   "source": []
  },
  {
   "cell_type": "code",
   "execution_count": 73,
   "metadata": {},
   "outputs": [
    {
     "data": {
      "text/plain": [
       "(15, 433)"
      ]
     },
     "execution_count": 73,
     "metadata": {},
     "output_type": "execute_result"
    }
   ],
   "source": []
  },
  {
   "cell_type": "code",
   "execution_count": 74,
   "metadata": {},
   "outputs": [
    {
     "name": "stdout",
     "output_type": "stream",
     "text": [
      "frozenset({'among', 'amount', 'please', 'to', 'below', 'only', 'part', 'others', 'mostly', 'move', 'un', 'perhaps', 'becoming', 'ten', 'via', 'so', 'than', 'no', 'everyone', 'every', 'while', 'give', 'whither', 'of', 'many', 'this', 'almost', 'is', 'find', 'why', 'ever', 'myself', 'nothing', 'my', 'last', 'hers', 'six', 'hereupon', 'some', 'we', 'someone', 'then', 'eight', 'hereafter', 'has', 'too', 'about', 'without', 'mine', 'couldnt', 'because', 'with', 'there', 'from', 'within', 'eg', 'system', 'either', 'latterly', 'never', 'were', 'which', 'thereby', 'more', 'how', 'cry', 'hasnt', 'besides', 'all', 'first', 'whereupon', 'everything', 'always', 'thru', 'whereas', 'except', 'once', 'yet', 'same', 'wherever', 'serious', 'cant', 'top', 'none', 'and', 'until', 'co', 'may', 'side', 'in', 'inc', 'can', 'thence', 'indeed', 'seems', 'me', 'per', 'whereafter', 'anywhere', 'name', 'might', 'latter', 'show', 'them', 'itself', 'its', 'your', 'at', 'sincere', 'both', 'describe', 'nor', 'they', 'throughout', 'as', 'ours', 'neither', 'done', 'meanwhile', 'ltd', 'third', 'empty', 'back', 'us', 'if', 'full', 'own', 'somehow', 'sometime', 'toward', 'otherwise', 'themselves', 'together', 'became', 'elsewhere', 'had', 'you', 'off', 'five', 'etc', 'have', 'she', 'hundred', 'sometimes', 'when', 'across', 'two', 'several', 'found', 're', 'anything', 'least', 'go', 'thereafter', 'behind', 'anyone', 'interest', 'thick', 'due', 'though', 'alone', 'ie', 'these', 'mill', 'under', 'most', 'cannot', 'on', 'becomes', 'fire', 'he', 'through', 'whence', 'since', 'upon', 'here', 'forty', 'however', 'a', 'nine', 'see', 'whom', 'amongst', 'still', 'thin', 'do', 'out', 'herself', 'could', 'over', 'noone', 'twelve', 'anyhow', 'yourselves', 'should', 'although', 'often', 'afterwards', 'hereby', 'less', 'by', 'anyway', 'now', 'made', 'towards', 'would', 'seeming', 'somewhere', 'put', 'above', 'whenever', 'whatever', 'any', 'yourself', 'ourselves', 'four', 'few', 'our', 'therein', 'who', 'fill', 'nobody', 'three', 'thus', 'but', 'nowhere', 'something', 'everywhere', 'further', 'one', 'whole', 'nevertheless', 'am', 'amoungst', 'rather', 'take', 'beyond', 'an', 'their', 'bottom', 'therefore', 'whereby', 'or', 'such', 'after', 'enough', 'around', 'namely', 'between', 'front', 'before', 'whether', 'down', 'her', 'himself', 'into', 'what', 'him', 'herein', 'must', 'i', 'become', 'eleven', 'be', 'will', 'each', 'very', 'his', 'was', 'are', 'next', 'seem', 'whoever', 'even', 'up', 'well', 'the', 'moreover', 'fifteen', 'beside', 'get', 'wherein', 'where', 'that', 'twenty', 'those', 'against', 'detail', 'seemed', 'yours', 'another', 'con', 'not', 'call', 'again', 'fifty', 'along', 'former', 'whose', 'much', 'formerly', 'else', 'during', 'onto', 'being', 'beforehand', 'keep', 'also', 'bill', 'for', 'it', 'sixty', 'thereupon', 'de', 'already', 'been', 'hence', 'other'})\n"
     ]
    }
   ],
   "source": []
  },
  {
   "cell_type": "code",
   "execution_count": 75,
   "metadata": {},
   "outputs": [
    {
     "data": {
      "text/plain": [
       "{'use': 403,\n",
       " 'case': 89,\n",
       " 'close': 100,\n",
       " 'service': 343,\n",
       " 'request': 312,\n",
       " 'role': 319,\n",
       " 'sagena.ce.common.backgroundtasks': 325,\n",
       " 'message': 229,\n",
       " '2018-01-09t15:22:07.8804560z': 15,\n",
       " 'error': 150,\n",
       " 'customerid:4001713571': 123,\n",
       " 'servicerequest': 344,\n",
       " '892f570d-d091-4320-89fe-ef40b3f87bf7': 32,\n",
       " 'related': 308,\n",
       " 'to': 381,\n",
       " 'product': 292,\n",
       " \"'microsoft\": 1,\n",
       " 'office': 259,\n",
       " '365': 20,\n",
       " 'u': 391,\n",
       " 'ha': 176,\n",
       " 'unaccepted': 396,\n",
       " 'closing': 101,\n",
       " 'status': 359,\n",
       " \"'rejectrecycle\": 2,\n",
       " 'servicerequestsvc.processforclose': 345,\n",
       " 'when': 418,\n",
       " 'an': 53,\n",
       " 'global': 171,\n",
       " 'admin': 46,\n",
       " 'login': 217,\n",
       " 'sage': 322,\n",
       " 'app': 57,\n",
       " 'and': 54,\n",
       " 'perform': 282,\n",
       " 'consent': 108,\n",
       " 'which': 420,\n",
       " 'require': 314,\n",
       " 'the': 374,\n",
       " 'permission': 283,\n",
       " 'we': 415,\n",
       " 'got': 173,\n",
       " '“': 431,\n",
       " 'it': 207,\n",
       " 'need': 246,\n",
       " 'access': 37,\n",
       " 'resource': 316,\n",
       " 'in': 189,\n",
       " 'your': 430,\n",
       " 'organization': 269,\n",
       " 'that': 373,\n",
       " 'only': 265,\n",
       " 'can': 87,\n",
       " 'grant': 174,\n",
       " 'please': 286,\n",
       " 'ask': 62,\n",
       " 'this': 378,\n",
       " 'before': 76,\n",
       " 'you': 429,\n",
       " '”': 432,\n",
       " 'if': 187,\n",
       " 'log': 214,\n",
       " 'portal': 287,\n",
       " 'verify': 410,\n",
       " 'user': 404,\n",
       " 'is': 205,\n",
       " 'event': 151,\n",
       " 'detail': 131,\n",
       " 'detected': 132,\n",
       " 'from': 166,\n",
       " 'wad': 413,\n",
       " 'sagena.ce.office365.workerrole': 331,\n",
       " '2017-12-30t18:41:38.4614375z': 13,\n",
       " 'unable': 395,\n",
       " 'update': 400,\n",
       " 'customer/tenant': 121,\n",
       " 'for': 163,\n",
       " 'tenant': 370,\n",
       " 'db1fc7d8-4ec1-4b23-b7ce-5068707a9acf': 128,\n",
       " 'exception': 152,\n",
       " '1': 9,\n",
       " 'cspservice.updatemscustomerorder': 119,\n",
       " 'diagnostic': 133,\n",
       " 'info': 195,\n",
       " 'partnerexception': 277,\n",
       " 'finding': 159,\n",
       " 'commerce': 103,\n",
       " 'account': 38,\n",
       " 'not': 252,\n",
       " 'found': 164,\n",
       " 'source': 356,\n",
       " 'microsoft.store.partnercenter': 235,\n",
       " 'type': 390,\n",
       " 'microsoft.store.partnercenter.exceptions.partnerexception': 237,\n",
       " 'stack': 358,\n",
       " 'trace': 384,\n",
       " 'microsoft.store.partnercenter.partnerservice.synchronousexecute': 238,\n",
       " 'func': 167,\n",
       " 'operation': 266,\n",
       " 'microsoft.store.partnercenter.dll': 236,\n",
       " 'sagena.ce.office365.services.cspservice.updatemsorder': 329,\n",
       " 'string': 362,\n",
       " 'customerid': 122,\n",
       " 'sagemoduleid': 324,\n",
       " 'int32': 200,\n",
       " 'quantity': 296,\n",
       " 'tenantid': 371,\n",
       " 'sagena.ce.office365.services.dll': 330,\n",
       " 'file': 157,\n",
       " 'cspservice.cs': 118,\n",
       " 'line': 212,\n",
       " '1647': 10,\n",
       " 'sagena.ce.office365.services.cspservice.updateentitlement': 327,\n",
       " 'office365subscription': 260,\n",
       " 'officesub': 261,\n",
       " '3603': 19,\n",
       " 'sagena.ce.office365.services.cspservice.updatemscustomerorder': 328,\n",
       " 'guid': 175,\n",
       " '0698': 6,\n",
       " 'creation': 114,\n",
       " 'failed': 155,\n",
       " 'during': 141,\n",
       " 'validation': 409,\n",
       " 'check': 98,\n",
       " 'customer': 120,\n",
       " 'contact': 109,\n",
       " 'invalid': 203,\n",
       " 'emailgpope': 145,\n",
       " 'pearcebevillecom': 281,\n",
       " 'two': 389,\n",
       " 'entitlement': 148,\n",
       " 'fixed': 161,\n",
       " 'assests': 63,\n",
       " 'same': 336,\n",
       " 'different': 134,\n",
       " 'serial': 342,\n",
       " 'number': 255,\n",
       " 'deleted': 129,\n",
       " 'expired': 154,\n",
       " 're-send': 298,\n",
       " 'provision': 295,\n",
       " 'wa': 412,\n",
       " 'completed': 104,\n",
       " 'with': 424,\n",
       " '464dd713-9ef1-4e5b-9791-c9d8d1ed2251': 24,\n",
       " 'address': 45,\n",
       " 'cspservice.createmscustomerorder': 117,\n",
       " 'microsoft': 231,\n",
       " 'subscription': 363,\n",
       " 'unsuccessful': 399,\n",
       " 'sagena.ce.office365.services': 326,\n",
       " 'system.exception': 367,\n",
       " 'ca': 83,\n",
       " 'were': 417,\n",
       " 'because': 73,\n",
       " 'maintenancesku': 225,\n",
       " 'see': 341,\n",
       " 'tab': 368,\n",
       " 'attached': 65,\n",
       " 'spreadsheet': 357,\n",
       " 'skus': 351,\n",
       " 'row': 320,\n",
       " '22': 17,\n",
       " 'beyond': 78,\n",
       " 'added': 44,\n",
       " 'on': 262,\n",
       " '5/22': 27,\n",
       " 'incorrect': 192,\n",
       " 'came': 86,\n",
       " 'our': 273,\n",
       " 'attention': 66,\n",
       " 'via': 411,\n",
       " 'a': 34,\n",
       " 'snow': 353,\n",
       " 'ticket': 380,\n",
       " 'inc0869484': 191,\n",
       " 'indicating': 194,\n",
       " 'could': 112,\n",
       " 'no': 250,\n",
       " 'longer': 220,\n",
       " 'o365': 256,\n",
       " 'turned': 388,\n",
       " 'out': 274,\n",
       " 'his': 182,\n",
       " 'february': 156,\n",
       " 'maintenance': 224,\n",
       " 'sku': 350,\n",
       " 'missing': 240,\n",
       " 'after': 49,\n",
       " '90': 33,\n",
       " 'day': 127,\n",
       " 'remove': 309,\n",
       " \"'s\": 3,\n",
       " 'data': 125,\n",
       " 'so': 354,\n",
       " 'be': 72,\n",
       " 'recovered': 303,\n",
       " 'researching': 315,\n",
       " 'other': 272,\n",
       " 'micorsoft': 230,\n",
       " 'several': 346,\n",
       " 'identified': 186,\n",
       " 'having': 180,\n",
       " 'been': 75,\n",
       " 'online': 264,\n",
       " 'but': 79,\n",
       " 'now': 254,\n",
       " 'order': 268,\n",
       " 'preserve': 289,\n",
       " 'where': 419,\n",
       " 'possible': 288,\n",
       " 'had': 177,\n",
       " 'their': 375,\n",
       " 'renewed': 311,\n",
       " 'using': 408,\n",
       " 'csp': 116,\n",
       " 'marked': 227,\n",
       " 'x': 426,\n",
       " 'or': 267,\n",
       " 'g': 169,\n",
       " 'indicate': 193,\n",
       " 'more': 244,\n",
       " 'than': 372,\n",
       " 'ago': 50,\n",
       " 'will': 422,\n",
       " 'reactivated': 300,\n",
       " 'cedatawebservicerole': 96,\n",
       " '2017-12-27t08:02:05.1017525z': 12,\n",
       " 'loguseraccess': 218,\n",
       " \"'invalid\": 0,\n",
       " '84149c71-aef4-42b9-92fd-5ae8ebff11d9': 31,\n",
       " 'useraccesslogsvc.create': 406,\n",
       " 'calling': 85,\n",
       " '2': 11,\n",
       " 'occurrence': 257,\n",
       " 's': 321,\n",
       " 'unrecoverableexception': 398,\n",
       " 'sagena.ce.service': 332,\n",
       " 'sagena.ce.service.exceptions.unrecoverableexception': 334,\n",
       " 'sagena.ce.service.useraccesslogsvc.create': 335,\n",
       " 'useraccesslog': 405,\n",
       " 'entity': 149,\n",
       " 'sagena.ce.service.dll': 333,\n",
       " 'cedataservice': 92,\n",
       " 'c__displayclass51_0': 82,\n",
       " 'logusertenantsignin': 219,\n",
       " 'b__0': 68,\n",
       " 'cedataservice.dll': 95,\n",
       " 'microsoft.practices.transientfaulthandling': 232,\n",
       " 'c__displayclass1': 81,\n",
       " 'executeaction': 153,\n",
       " 'microsoft.practices.transientfaulthandling.core.dll': 233,\n",
       " 'microsoft.practices.transientfaulthandling.retrypolicy.executeaction': 234,\n",
       " 'cedataservice.ceumrepository.logusertenantsignin': 94,\n",
       " 'productuserid': 293,\n",
       " 'appid': 58,\n",
       " 'useraccessoriginator': 407,\n",
       " 'originator': 271,\n",
       " 'logdescription': 215,\n",
       " 'cedataservice.ceumrepository.loguseraccess': 93,\n",
       " 'personaccessinfo': 284,\n",
       " 'pai': 276,\n",
       " 'requestlogdescription': 313,\n",
       " 'summary': 365,\n",
       " 'suspended': 366,\n",
       " 'active': 42,\n",
       " '4001542273': 23,\n",
       " 'description': 130,\n",
       " 'id': 185,\n",
       " '4e490253-7c1b-4a9d-99eb-67df525a9eb6': 25,\n",
       " 'add': 43,\n",
       " 'connector': 107,\n",
       " 'fusion': 168,\n",
       " 'acct': 40,\n",
       " 'misunderstanding': 241,\n",
       " 'lead': 209,\n",
       " 'needing': 247,\n",
       " 'removed': 310,\n",
       " 'original': 270,\n",
       " 're-add': 297,\n",
       " 'at': 64,\n",
       " 'charge': 97,\n",
       " 'action': 41,\n",
       " 'created': 113,\n",
       " 'second': 340,\n",
       " 'client': 99,\n",
       " '0bac418c-67fb-4807-89af-659e6dfb21b1': 8,\n",
       " 'link': 213,\n",
       " 'these': 376,\n",
       " 'already': 51,\n",
       " 'migrated': 239,\n",
       " 'domain': 137,\n",
       " 'first': 160,\n",
       " '4001283393': 22,\n",
       " 'looking': 221,\n",
       " 'xml': 428,\n",
       " 'being': 77,\n",
       " 'downloaded': 138,\n",
       " 'sl': 352,\n",
       " 'i': 184,\n",
       " 'duplicate': 140,\n",
       " 'payroll': 280,\n",
       " 'element': 143,\n",
       " 'one': 263,\n",
       " 'new': 248,\n",
       " 'date': 126,\n",
       " 'last': 208,\n",
       " 'win': 423,\n",
       " 'why': 421,\n",
       " '2018-01-09t21:01:24.5572213z': 16,\n",
       " 'warning': 414,\n",
       " 'customerid:4002949071': 124,\n",
       " 'northamerica': 251,\n",
       " 'module': 242,\n",
       " 'inventory': 204,\n",
       " 'advisor': 48,\n",
       " 'monthly,8b75f296-1ce1-4561-a970-5a9132550a29': 243,\n",
       " 'bce7ac6b-8d11-4415-93a7-478b81a34fea': 71,\n",
       " 'end': 146,\n",
       " '2018-01-09': 14,\n",
       " 'reconciled': 301,\n",
       " 'backoffice': 70,\n",
       " 'past': 278,\n",
       " 'due': 139,\n",
       " 'contract': 110,\n",
       " 'effective': 142,\n",
       " 'inspection': 198,\n",
       " 'of': 258,\n",
       " 'record': 302,\n",
       " 'may': 228,\n",
       " 'find': 158,\n",
       " 'discrepancy': 135,\n",
       " 'm': 223,\n",
       " 'apply': 60,\n",
       " \"'sage\": 4,\n",
       " 'angela.brown': 55,\n",
       " \"newstpaul'hs.org\": 249,\n",
       " 'email': 144,\n",
       " 'inc0674090': 190,\n",
       " 'logged': 216,\n",
       " 'by': 80,\n",
       " 'mark.carlisle': 226,\n",
       " 'sage.com': 323,\n",
       " 'region': 304,\n",
       " 'uk': 392,\n",
       " 'initial': 197,\n",
       " 'urgency': 401,\n",
       " 'high': 181,\n",
       " 'category': 90,\n",
       " 'application/service': 59,\n",
       " 'issue': 206,\n",
       " 'outage': 275,\n",
       " 'impacting': 188,\n",
       " 'true': 387,\n",
       " '63823004': 30,\n",
       " 'xanadu': 427,\n",
       " 'trade': 385,\n",
       " 'ltd': 222,\n",
       " 'reinstatement': 307,\n",
       " '052900cd-edb8-4354-8aa5-6abd2f6a0bad': 5,\n",
       " 'above': 36,\n",
       " 'showing': 348,\n",
       " 'cloud': 102,\n",
       " 'become': 74,\n",
       " 'un-licensed': 394,\n",
       " 'result': 317,\n",
       " 'unknown': 397,\n",
       " 'how': 183,\n",
       " 'happened': 178,\n",
       " 'doe': 136,\n",
       " 'have': 179,\n",
       " '3': 18,\n",
       " 'registration': 305,\n",
       " 'intouch': 202,\n",
       " 'are': 61,\n",
       " 'cancelled': 88,\n",
       " 'screenshot': 338,\n",
       " 'note': 253,\n",
       " 'reinstated': 306,\n",
       " 'previously': 291,\n",
       " '09/11/17': 7,\n",
       " 'confirmed': 106,\n",
       " 'credit': 115,\n",
       " 'control': 111,\n",
       " 'team': 369,\n",
       " 'they': 377,\n",
       " 'paying': 279,\n",
       " '5': 26,\n",
       " 'seat': 339,\n",
       " 'free': 165,\n",
       " '6': 29,\n",
       " 'total': 382,\n",
       " 'advise': 47,\n",
       " 'flare': 162,\n",
       " 'protection': 294,\n",
       " 'ce': 91,\n",
       " 'signon': 349,\n",
       " 'endpoint': 147,\n",
       " 'suddenly': 364,\n",
       " 'prevented': 290,\n",
       " 'traffic': 386,\n",
       " 'reach': 299,\n",
       " 'api': 56,\n",
       " 'call': 84,\n",
       " 'authorization': 67,\n",
       " 'returned': 318,\n",
       " '520': 28,\n",
       " 'those': 379,\n",
       " 'us': 402,\n",
       " 'um': 393,\n",
       " 'library': 210,\n",
       " 'able': 35,\n",
       " '4000603839': 21,\n",
       " 'name': 245,\n",
       " 'touch': 383,\n",
       " 'accounting': 39,\n",
       " 'gone': 172,\n",
       " 'completely': 105,\n",
       " 'should': 347,\n",
       " 'still': 360,\n",
       " 'get': 170,\n",
       " 'back': 69,\n",
       " 'place': 285,\n",
       " 'soon': 355,\n",
       " 'into': 201,\n",
       " 'also': 52,\n",
       " 'would': 425,\n",
       " 'like': 211,\n",
       " 'information': 196,\n",
       " 'went': 416,\n",
       " 'straight': 361,\n",
       " 'scp': 337,\n",
       " 'instead': 199}"
      ]
     },
     "execution_count": 75,
     "metadata": {},
     "output_type": "execute_result"
    }
   ],
   "source": [
    "# Let's take a look at the vocabulary that was generated, containing 16,825 unique words.\n",
    "#   'vocabulary_' is a dictionary that converts each word to its index in the sparse matrix.\n",
    "#   - For example, the word \"only\" is index #10362 in the sparse matrix.\n",
    "\n",
    "vect.vocabulary_"
   ]
  },
  {
   "cell_type": "code",
   "execution_count": null,
   "metadata": {},
   "outputs": [],
   "source": []
  }
 ],
 "metadata": {
  "kernelspec": {
   "display_name": "Python 3",
   "language": "python",
   "name": "python3"
  },
  "language_info": {
   "codemirror_mode": {
    "name": "ipython",
    "version": 3
   },
   "file_extension": ".py",
   "mimetype": "text/x-python",
   "name": "python",
   "nbconvert_exporter": "python",
   "pygments_lexer": "ipython3",
   "version": "3.8.5"
  }
 },
 "nbformat": 4,
 "nbformat_minor": 4
}
